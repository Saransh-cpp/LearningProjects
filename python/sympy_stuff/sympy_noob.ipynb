{
 "cells": [
  {
   "cell_type": "code",
   "execution_count": 1,
   "id": "ec518c7c-a999-494b-8ddb-ed25844dce47",
   "metadata": {},
   "outputs": [],
   "source": [
    "import sympy as smp\n",
    "import numpy as np\n",
    "import matplotlib.pyplot as plt"
   ]
  },
  {
   "cell_type": "code",
   "execution_count": 2,
   "id": "029252b1-d6c0-4222-affc-644a1fff0e1f",
   "metadata": {},
   "outputs": [],
   "source": [
    "x = smp.symbols(\"x\")"
   ]
  },
  {
   "cell_type": "code",
   "execution_count": 3,
   "id": "d7d6bd8b-f9a7-4d99-aa05-047cb4e797ec",
   "metadata": {},
   "outputs": [
    {
     "data": {
      "text/latex": [
       "$\\displaystyle x^{2}$"
      ],
      "text/plain": [
       "x**2"
      ]
     },
     "execution_count": 3,
     "metadata": {},
     "output_type": "execute_result"
    }
   ],
   "source": [
    "x ** 2"
   ]
  },
  {
   "cell_type": "code",
   "execution_count": 4,
   "id": "8a520e73-16e8-4ac5-a209-bf33ed93bd70",
   "metadata": {},
   "outputs": [
    {
     "data": {
      "text/latex": [
       "$\\displaystyle \\sin{\\left(x \\right)}$"
      ],
      "text/plain": [
       "sin(x)"
      ]
     },
     "execution_count": 4,
     "metadata": {},
     "output_type": "execute_result"
    }
   ],
   "source": [
    "smp.sin(x)"
   ]
  },
  {
   "cell_type": "code",
   "execution_count": 5,
   "id": "76e7a087-81f4-4eb6-a23b-999361bc4f6d",
   "metadata": {},
   "outputs": [],
   "source": [
    "y = x ** 2 + 4 * x + 3"
   ]
  },
  {
   "cell_type": "code",
   "execution_count": 6,
   "id": "752cbe75-7a09-47a2-b766-4b3a1ad0d7b6",
   "metadata": {},
   "outputs": [
    {
     "data": {
      "text/latex": [
       "$\\displaystyle x^{2} + 4 x + 3$"
      ],
      "text/plain": [
       "x**2 + 4*x + 3"
      ]
     },
     "execution_count": 6,
     "metadata": {},
     "output_type": "execute_result"
    }
   ],
   "source": [
    "y"
   ]
  },
  {
   "cell_type": "code",
   "execution_count": 7,
   "id": "5ba1a41b-6a0b-410f-9acd-f925206bad82",
   "metadata": {},
   "outputs": [],
   "source": [
    "z = y ** 2"
   ]
  },
  {
   "cell_type": "code",
   "execution_count": 8,
   "id": "34f35894-d732-4bc6-944d-b78951bc1b0a",
   "metadata": {},
   "outputs": [
    {
     "data": {
      "text/latex": [
       "$\\displaystyle \\left(x^{2} + 4 x + 3\\right)^{2}$"
      ],
      "text/plain": [
       "(x**2 + 4*x + 3)**2"
      ]
     },
     "execution_count": 8,
     "metadata": {},
     "output_type": "execute_result"
    }
   ],
   "source": [
    "z"
   ]
  },
  {
   "cell_type": "code",
   "execution_count": 9,
   "id": "1c8a7c02-fbca-42e1-8c7c-f60333ce614b",
   "metadata": {},
   "outputs": [
    {
     "data": {
      "text/latex": [
       "$\\displaystyle \\left(x + 1\\right)^{2} \\left(x + 3\\right)^{2}$"
      ],
      "text/plain": [
       "(x + 1)**2*(x + 3)**2"
      ]
     },
     "execution_count": 9,
     "metadata": {},
     "output_type": "execute_result"
    }
   ],
   "source": [
    "z.factor()"
   ]
  },
  {
   "cell_type": "code",
   "execution_count": 10,
   "id": "cb9672f9-d931-4340-a80d-0a38eb2bac62",
   "metadata": {},
   "outputs": [
    {
     "data": {
      "text/latex": [
       "$\\displaystyle x^{4} + 8 x^{3} + 22 x^{2} + 24 x + 9$"
      ],
      "text/plain": [
       "x**4 + 8*x**3 + 22*x**2 + 24*x + 9"
      ]
     },
     "execution_count": 10,
     "metadata": {},
     "output_type": "execute_result"
    }
   ],
   "source": [
    "z.expand()"
   ]
  },
  {
   "cell_type": "code",
   "execution_count": 11,
   "id": "2258ceb6-6096-4a1b-bf3c-d121b084529b",
   "metadata": {},
   "outputs": [
    {
     "data": {
      "text/plain": [
       "[-3, -1]"
      ]
     },
     "execution_count": 11,
     "metadata": {},
     "output_type": "execute_result"
    }
   ],
   "source": [
    "smp.solve(z, x)"
   ]
  },
  {
   "cell_type": "code",
   "execution_count": 12,
   "id": "007fe932-065e-499b-95d3-2b28a4d5326f",
   "metadata": {},
   "outputs": [
    {
     "data": {
      "text/plain": [
       "[0, pi]"
      ]
     },
     "execution_count": 12,
     "metadata": {},
     "output_type": "execute_result"
    }
   ],
   "source": [
    "smp.solve(smp.sin(x), x)"
   ]
  },
  {
   "cell_type": "code",
   "execution_count": 14,
   "id": "e4f99ec7-9dec-40ef-b6d6-93bea7d2b56d",
   "metadata": {},
   "outputs": [
    {
     "data": {
      "text/plain": [
       "[-I, I]"
      ]
     },
     "execution_count": 14,
     "metadata": {},
     "output_type": "execute_result"
    }
   ],
   "source": [
    "x = smp.symbols(\"x\")\n",
    "smp.solve(x ** 2 + 1, x)"
   ]
  },
  {
   "cell_type": "code",
   "execution_count": 15,
   "id": "d6eba86e-8d18-4dec-848d-88c973996c07",
   "metadata": {},
   "outputs": [
    {
     "data": {
      "text/plain": [
       "[]"
      ]
     },
     "execution_count": 15,
     "metadata": {},
     "output_type": "execute_result"
    }
   ],
   "source": [
    "x = smp.symbols(\"x\", real=True)\n",
    "smp.solve(x ** 2 + 1, x)"
   ]
  },
  {
   "cell_type": "code",
   "execution_count": 16,
   "id": "bbe27ec9-a700-46fe-8501-8fc5a8252fe4",
   "metadata": {},
   "outputs": [],
   "source": [
    "x, y, z = smp.symbols(\"x y z\")\n",
    "f = x ** 2 + y * smp.sin(z)"
   ]
  },
  {
   "cell_type": "code",
   "execution_count": 17,
   "id": "81045293-1e8a-4853-adda-36060c89967e",
   "metadata": {},
   "outputs": [
    {
     "data": {
      "text/latex": [
       "$\\displaystyle x^{2} + y \\sin{\\left(z \\right)}$"
      ],
      "text/plain": [
       "x**2 + y*sin(z)"
      ]
     },
     "execution_count": 17,
     "metadata": {},
     "output_type": "execute_result"
    }
   ],
   "source": [
    "f"
   ]
  },
  {
   "cell_type": "code",
   "execution_count": 18,
   "id": "8a95949b-6c4b-43e8-a09f-52387ae0ffd3",
   "metadata": {},
   "outputs": [
    {
     "data": {
      "text/plain": [
       "[-sqrt(-y*sin(z)), sqrt(-y*sin(z))]"
      ]
     },
     "execution_count": 18,
     "metadata": {},
     "output_type": "execute_result"
    }
   ],
   "source": [
    "smp.solve(f, x)"
   ]
  },
  {
   "cell_type": "code",
   "execution_count": 19,
   "id": "771e6653-83e6-4fd6-a34a-66c04a715d85",
   "metadata": {},
   "outputs": [
    {
     "data": {
      "text/plain": [
       "[-x**2/sin(z)]"
      ]
     },
     "execution_count": 19,
     "metadata": {},
     "output_type": "execute_result"
    }
   ],
   "source": [
    "smp.solve(f, y)"
   ]
  },
  {
   "cell_type": "code",
   "execution_count": 21,
   "id": "73120fb2-f694-41e2-88e2-e83b6f91193e",
   "metadata": {},
   "outputs": [],
   "source": [
    "z_sols = smp.solve(f, z)"
   ]
  },
  {
   "cell_type": "code",
   "execution_count": 22,
   "id": "18a92853-b86d-45bd-ba55-f5223f9a3816",
   "metadata": {},
   "outputs": [],
   "source": [
    "expr = z_sols[0]"
   ]
  },
  {
   "cell_type": "code",
   "execution_count": 23,
   "id": "3bce9de6-9246-4077-95a6-95228add3296",
   "metadata": {},
   "outputs": [
    {
     "data": {
      "text/latex": [
       "$\\displaystyle \\operatorname{asin}{\\left(\\frac{x^{2}}{y} \\right)} + \\pi$"
      ],
      "text/plain": [
       "asin(x**2/y) + pi"
      ]
     },
     "execution_count": 23,
     "metadata": {},
     "output_type": "execute_result"
    }
   ],
   "source": [
    "expr"
   ]
  },
  {
   "cell_type": "code",
   "execution_count": 24,
   "id": "4404edfb-1c32-405f-b783-242d358aff37",
   "metadata": {},
   "outputs": [
    {
     "data": {
      "text/plain": [
       "3.665191429188092"
      ]
     },
     "execution_count": 24,
     "metadata": {},
     "output_type": "execute_result"
    }
   ],
   "source": [
    "expr_f = smp.lambdify([x, y], expr)\n",
    "expr_f(1, 2)"
   ]
  },
  {
   "cell_type": "code",
   "execution_count": 26,
   "id": "4c62ae5b-8116-4c01-844f-88b178943154",
   "metadata": {},
   "outputs": [
    {
     "data": {
      "image/png": "[encoded data removed]",
      "text/plain": [
       "<Figure size 640x480 with 1 Axes>"
      ]
     },
     "metadata": {},
     "output_type": "display_data"
    }
   ],
   "source": [
    "x_num = np.linspace(0, 1, 100)\n",
    "y_num = 2\n",
    "plt.plot(x_num, expr_f(x_num, y_num));"
   ]
  },
  {
   "cell_type": "code",
   "execution_count": 27,
   "id": "6089058a-e3f9-49eb-bd0e-da3550362cd3",
   "metadata": {},
   "outputs": [
    {
     "data": {
      "text/latex": [
       "$\\displaystyle x^{2} + y \\sin{\\left(z \\right)}$"
      ],
      "text/plain": [
       "x**2 + y*sin(z)"
      ]
     },
     "execution_count": 27,
     "metadata": {},
     "output_type": "execute_result"
    }
   ],
   "source": [
    "f"
   ]
  },
  {
   "cell_type": "code",
   "execution_count": 28,
   "id": "3944427f-252d-4942-a9e4-91d28c17d341",
   "metadata": {},
   "outputs": [
    {
     "data": {
      "text/latex": [
       "$\\displaystyle x^{2} + 3$"
      ],
      "text/plain": [
       "x**2 + 3"
      ]
     },
     "execution_count": 28,
     "metadata": {},
     "output_type": "execute_result"
    }
   ],
   "source": [
    "f.subs([(y, 3), (z, smp.pi/2)])"
   ]
  },
  {
   "cell_type": "code",
   "execution_count": 29,
   "id": "23992604-dbcc-4075-be3f-b464d1afbebc",
   "metadata": {},
   "outputs": [
    {
     "data": {
      "text/latex": [
       "$\\displaystyle x^{2}$"
      ],
      "text/plain": [
       "x**2"
      ]
     },
     "execution_count": 29,
     "metadata": {},
     "output_type": "execute_result"
    }
   ],
   "source": [
    "f.subs([(y, smp.cos(z)), (z, smp.pi/2)])"
   ]
  },
  {
   "cell_type": "code",
   "execution_count": null,
   "id": "76829f02-b623-4bee-af6e-883028e1bf7f",
   "metadata": {},
   "outputs": [],
   "source": []
  }
 ],
 "metadata": {
  "kernelspec": {
   "display_name": "Python 3 (ipykernel)",
   "language": "python",
   "name": "python3"
  },
  "language_info": {
   "codemirror_mode": {
    "name": "ipython",
    "version": 3
   },
   "file_extension": ".py",
   "mimetype": "text/x-python",
   "name": "python",
   "nbconvert_exporter": "python",
   "pygments_lexer": "ipython3",
   "version": "3.11.5"
  }
 },
 "nbformat": 4,
 "nbformat_minor": 5
}
