{
 "cells": [
  {
   "cell_type": "code",
   "execution_count": 8,
   "id": "3044562b-bb5e-4774-9b23-3165cf4205fb",
   "metadata": {},
   "outputs": [],
   "source": [
    "import hist\n",
    "from hist import Hist, axis\n",
    "import numpy as np"
   ]
  },
  {
   "cell_type": "code",
   "execution_count": 90,
   "id": "77f72515-7640-4ff6-a8cd-bab9d8f8dc53",
   "metadata": {},
   "outputs": [],
   "source": [
    "import numpy as np\n",
    "import hist\n",
    "from hist import Hist\n",
    "\n",
    "\n",
    "# Function to rebin a histogram\n",
    "def rebin(histogram, new_bins=None, reltol=None, abstol=None):\n",
    "    # Check if at least one parameter is provided for rebinning\n",
    "    if new_bins is None and reltol is None and abstol is None:\n",
    "        raise ValueError(\"Either 'new_bins', 'reltol', or 'abstol' must be provided for rebinning.\")\n",
    "\n",
    "    # Process the new bins if provided\n",
    "    if new_bins is not None:\n",
    "        if not isinstance(new_bins, list):\n",
    "            raise ValueError(\"'new_bins' must be a list or a list of lists.\")\n",
    "        if not all(isinstance(edges, list) for edges in new_bins):\n",
    "            raise ValueError(\"If 'new_bins' is a list of lists, each element must be a list of bin edges.\")\n",
    "        # Create a dictionary mapping axis names to the new bin edges\n",
    "        new_axes_dict = {axis.name: np.asarray(edges) for axis, edges in zip(histogram.axes, new_bins)}\n",
    "    else:\n",
    "        new_axes_dict = {}\n",
    "    print(new_axes_dict)\n",
    "\n",
    "    # Process each axis of the histogram\n",
    "    for axis in histogram.axes:\n",
    "        # If the axis name is not in the new_axes_dict, calculate new edges based on reltol or abstol\n",
    "        if axis.name not in new_axes_dict:\n",
    "            if reltol is not None and abstol is not None:\n",
    "                raise ValueError(\"Only one of 'reltol' or 'abstol' should be provided.\")\n",
    "            elif reltol is not None:\n",
    "                # Calculate new edges based on relative tolerance\n",
    "                rel_edges = np.diff(axis.edges) * reltol\n",
    "                print(\"elif1:\", rel_edges)\n",
    "                new_edges = axis.edges[:-1][np.where(rel_edges >= 0)]\n",
    "                print(\"elif1:\", new_edges)\n",
    "                new_edges = np.concatenate([[axis.edges[0]], new_edges, [axis.edges[-1]]])\n",
    "                print(\"elif1:\", new_edges)\n",
    "            elif abstol is not None:\n",
    "                # Calculate new edges based on absolute tolerance\n",
    "                new_edges = axis.edges[np.where(np.diff(axis.edges) >= abstol)]\n",
    "                print(\"elif:\", new_edges)\n",
    "                new_edges = np.concatenate([[axis.edges[0]], new_edges, [axis.edges[-1]]])\n",
    "                print(\"elif:\", new_edges)\n",
    "            else:\n",
    "                # No rebinning needed for this axis\n",
    "                new_edges = axis.edges\n",
    "                print(\"else:\", new_edges)\n",
    "            # Update the new_axes_dict with the new edges\n",
    "            new_axes_dict[axis.name] = new_edges\n",
    "            print(new_axes_dict)\n",
    "\n",
    "    # Calculate the new bin indices for each axis\n",
    "    new_axes_indices = {\n",
    "        axis.name: np.digitize(histogram.axes[axis.name].centers, new_axes_dict[axis.name]) - 1\n",
    "        for axis in histogram.axes\n",
    "    }\n",
    "    print(f\"new_axes_indices: {new_axes_indices}\")\n",
    "\n",
    "    # Define the slices for extracting the rebinned counts\n",
    "    slices = tuple(\n",
    "        slice(new_axes_indices[axis.name][i], new_axes_indices[axis.name][i+1] + 1)\n",
    "        for i, axis in enumerate(histogram.axes)\n",
    "    )\n",
    "    print(f\"slice: {slices}\")\n",
    "\n",
    "    # Extract the rebinned counts from the original histogram\n",
    "    rebinned_counts = histogram.view(flow=True)[slices]\n",
    "    print(f\"rebinned_counts: {rebinned_counts}\")\n",
    "\n",
    "    # If no counts are present in the rebinned histogram, create an empty array with the correct shape\n",
    "    if rebinned_counts.size == 0:\n",
    "        rebinned_counts = np.empty(tuple(slice_.stop - slice_.start for slice_ in slices), dtype=histogram.values().dtype)\n",
    "\n",
    "    # Create a new rebinned histogram with the updated bin edges\n",
    "    rebinned_hist = Hist(\n",
    "        *(hist.axis.Variable(new_axes_dict[axis.name]) if axis.name in new_axes_dict else axis for axis in histogram.axes)\n",
    "    )\n",
    "    # rebinned_hist.fill(*histogram.values())\n",
    "\n",
    "    return rebinned_hist"
   ]
  },
  {
   "cell_type": "code",
   "execution_count": 115,
   "id": "7122bd3d-8ec2-4b98-a52a-59dd700bd366",
   "metadata": {},
   "outputs": [],
   "source": [
    "def rebin_hist(h, **kwargs):\n",
    "    import boost_histogram as bh\n",
    "    for axis_name, edges in kwargs.items():\n",
    "        if axis_name not in h.axes.label:\n",
    "            raise ValueError(f\"Undefined axis {axis_name}\")\n",
    "\n",
    "        if type(edges) == int:\n",
    "            return h[{axis_name : bh.rebin(edges)}]\n",
    "        elif all(type(edge) == float for edge in edges):\n",
    "            ax = h.axes[axis_name]\n",
    "            ax_idx = [a.name for a in h.axes].index(axis_name)\n",
    "            if not all([np.isclose(x, ax.edges).any() for x in edges]):\n",
    "                raise ValueError(f\"Cannot rebin histogram due to incompatible edges for axis '{ax.name}'\\n\"\n",
    "                                    f\"Edges of histogram are {ax.edges}, requested rebinning to {edges}\")\n",
    "                \n",
    "            # If you rebin to a subset of initial range, keep the overflow and underflow\n",
    "            overflow = ax.traits.overflow or (edges[-1] < ax.edges[-1] and not np.isclose(edges[-1], ax.edges[-1]))\n",
    "            underflow = ax.traits.underflow or (edges[0] > ax.edges[0] and not np.isclose(edges[0], ax.edges[0]))\n",
    "            flow = overflow or underflow\n",
    "            new_ax = hist.axis.Variable(edges, name=ax.name, overflow=overflow, underflow=underflow)\n",
    "            axes = list(h.axes)\n",
    "            axes[ax_idx] = new_ax\n",
    "            \n",
    "            hnew = hist.Hist(*axes, name=h.name, storage=h._storage_type())\n",
    "        \n",
    "            # Offset from bin edge to avoid numeric issues\n",
    "            offset = 0.5*np.min(ax.edges[1:]-ax.edges[:-1])\n",
    "            edges_eval = edges+offset\n",
    "            edge_idx = ax.index(edges_eval)\n",
    "            # Avoid going outside the range, reduceat will add the last index anyway\n",
    "            if edge_idx[-1] == ax.size+ax.traits.overflow:\n",
    "                edge_idx = edge_idx[:-1]\n",
    "        \n",
    "            if underflow:\n",
    "                # Only if the original axis had an underflow should you offset\n",
    "                if ax.traits.underflow:\n",
    "                    edge_idx += 1\n",
    "                edge_idx = np.insert(edge_idx, 0, 0)\n",
    "        \n",
    "            # Take is used because reduceat sums i:len(array) for the last entry, in the case\n",
    "            # where the final bin isn't the same between the initial and rebinned histogram, you\n",
    "            # want to drop this value. Add tolerance of 1/2 min bin width to avoid numeric issues\n",
    "            hnew.values(flow=flow)[...] = np.add.reduceat(h.values(flow=flow), edge_idx, \n",
    "                    axis=ax_idx).take(indices=range(new_ax.size+underflow+overflow), axis=ax_idx)\n",
    "            if hnew.storage_type() == hist.storage.Weight():\n",
    "                hnew.variances(flow=flow)[...] = np.add.reduceat(h.variances(flow=flow), edge_idx, \n",
    "                        axis=ax_idx).take(indices=range(new_ax.size+underflow+overflow), axis=ax_idx)\n",
    "        elif all(type(edge) == int for edge in edges):\n",
    "            # implement grouping of bins here            \n",
    "            pass\n",
    "        else:\n",
    "            raise ValueError(\"The new bin edges should be a list of integers or a list of floats\")\n",
    "    return hnew"
   ]
  },
  {
   "cell_type": "code",
   "execution_count": 54,
   "id": "ae2500fa-11d0-46c9-9d0b-a3e831e13357",
   "metadata": {},
   "outputs": [],
   "source": [
    "h = Hist(axis.Regular(10, 0, 1, name=\"x\"), name=\"hist\")"
   ]
  },
  {
   "cell_type": "code",
   "execution_count": 55,
   "id": "5f485a8f-f285-47fc-86ff-f5a0f077af2b",
   "metadata": {},
   "outputs": [
    {
     "data": {
      "text/html": [
       "<html>\n",
       "<div style=\"display:flex; align-items:center;\">\n",
       "<div style=\"width:290px;\">\n",
       "<svg xmlns=\"http://www.w3.org/2000/svg\" viewBox=\"-10 -105 270 120\">\n",
       "<line x1=\"-5\" y1=\"0\" x2=\"255\" y2=\"0\" style=\"fill:none;stroke-width:2;stroke:currentColor\"/>\n",
       "<text text-anchor=\"middle\" x=\"0\" y=\"15\" style=\"fill:currentColor;\">\n",
       "0\n",
       "</text>\n",
       "<text text-anchor=\"middle\" x=\"250\" y=\"15\" style=\"fill:currentColor;\">\n",
       "1\n",
       "</text>\n",
       "<text text-anchor=\"middle\" x=\"125.0\" y=\"15\" style=\"fill:currentColor;\">\n",
       "x\n",
       "</text>\n",
       "<polyline points=\"  0,0   0,-0  25,-0  25,-0  50,-0  50,-0  75,-0  75,-0 100,-0 100,-0 125,-0 125,-0 150,-0 150,-0 175,-0 175,-0 200,-0 200,-0 225,-0 225,-0 250,-0 250,0\" style=\"fill:none; stroke:currentColor;\"/>\n",
       "</svg>\n",
       "</div>\n",
       "<div style=\"flex=grow:1;\">\n",
       "Regular(10, 0, 1, name='x')<br/>\n",
       "<hr style=\"margin-top:.2em; margin-bottom:.2em;\"/>\n",
       "Double() Σ=0.0\n",
       "\n",
       "</div>\n",
       "</div>\n",
       "</html>"
      ],
      "text/plain": [
       "Hist(Regular(10, 0, 1, name='x'), storage=Double())"
      ]
     },
     "execution_count": 55,
     "metadata": {},
     "output_type": "execute_result"
    }
   ],
   "source": [
    "h"
   ]
  },
  {
   "cell_type": "code",
   "execution_count": 56,
   "id": "6f39d457-7d9f-407d-861a-0cd5632481b4",
   "metadata": {},
   "outputs": [
    {
     "data": {
      "text/html": [
       "<html>\n",
       "<div style=\"display:flex; align-items:center;\">\n",
       "<div style=\"width:290px;\">\n",
       "<svg xmlns=\"http://www.w3.org/2000/svg\" viewBox=\"-10 -105 270 120\">\n",
       "<line x1=\"-5\" y1=\"0\" x2=\"255\" y2=\"0\" style=\"fill:none;stroke-width:2;stroke:currentColor\"/>\n",
       "<text text-anchor=\"middle\" x=\"0\" y=\"15\" style=\"fill:currentColor;\">\n",
       "0\n",
       "</text>\n",
       "<text text-anchor=\"middle\" x=\"250\" y=\"15\" style=\"fill:currentColor;\">\n",
       "1\n",
       "</text>\n",
       "<text text-anchor=\"middle\" x=\"125.0\" y=\"15\" style=\"fill:currentColor;\">\n",
       "x\n",
       "</text>\n",
       "<polyline points=\"  0,0   0,-100  25,-100  25,-98.4  50,-98.4  50,-97.4  75,-97.4  75,-94.1 100,-94.1 100,-90.3 125,-90.3 125,-86.2 150,-86.2 150,-80.7 175,-80.7 175,-75.1 200,-75.1 200,-68.9 225,-68.9 225,-63.2 250,-63.2 250,0\" style=\"fill:none; stroke:currentColor;\"/>\n",
       "</svg>\n",
       "</div>\n",
       "<div style=\"flex=grow:1;\">\n",
       "Regular(10, 0, 1, name='x')<br/>\n",
       "<hr style=\"margin-top:.2em; margin-bottom:.2em;\"/>\n",
       "Double() Σ=341569.0 <em>(1000000.0 with flow)</em>\n",
       "\n",
       "</div>\n",
       "</div>\n",
       "</html>"
      ],
      "text/plain": [
       "Hist(Regular(10, 0, 1, name='x'), storage=Double()) # Sum: 341569.0 (1000000.0 with flow)"
      ]
     },
     "execution_count": 56,
     "metadata": {},
     "output_type": "execute_result"
    }
   ],
   "source": [
    "h.fill(x=np.random.normal(size=1_000_000))"
   ]
  },
  {
   "cell_type": "code",
   "execution_count": 107,
   "id": "af556fae-ce91-418c-a935-556a9881e57b",
   "metadata": {},
   "outputs": [
    {
     "data": {
      "text/plain": [
       "37622.0"
      ]
     },
     "execution_count": 107,
     "metadata": {},
     "output_type": "execute_result"
    }
   ],
   "source": [
    "integrate_hist(h, x=3)"
   ]
  },
  {
   "cell_type": "code",
   "execution_count": 94,
   "id": "17ee6b68-ae6b-4b86-8ca5-e6b4d80ff20c",
   "metadata": {},
   "outputs": [
    {
     "ename": "TypeError",
     "evalue": "rebin_hist() missing 2 required positional arguments: 'axis_name' and 'edges'",
     "output_type": "error",
     "traceback": [
      "\u001b[0;31m---------------------------------------------------------------------------\u001b[0m",
      "\u001b[0;31mTypeError\u001b[0m                                 Traceback (most recent call last)",
      "\u001b[0;32m/var/folders/v1/w_dx9xn11zlgpffrd5ptcb380000gn/T/ipykernel_92583/1223837734.py\u001b[0m in \u001b[0;36m<cell line: 0>\u001b[0;34m()\u001b[0m\n\u001b[0;32m----> 1\u001b[0;31m \u001b[0mtype\u001b[0m\u001b[0;34m(\u001b[0m\u001b[0mh\u001b[0m\u001b[0;34m[\u001b[0m\u001b[0;34m:\u001b[0m\u001b[0;34m:\u001b[0m\u001b[0mrebin_hist\u001b[0m\u001b[0;34m(\u001b[0m\u001b[0;36m2\u001b[0m\u001b[0;34m)\u001b[0m\u001b[0;34m]\u001b[0m\u001b[0;34m)\u001b[0m\u001b[0;34m\u001b[0m\u001b[0;34m\u001b[0m\u001b[0m\n\u001b[0m",
      "\u001b[0;31mTypeError\u001b[0m: rebin_hist() missing 2 required positional arguments: 'axis_name' and 'edges'"
     ]
    }
   ],
   "source": [
    "type(h[::rebin_hist(2)])"
   ]
  },
  {
   "cell_type": "code",
   "execution_count": 93,
   "id": "12448b3b-5fbd-44d5-9250-9c82dde48547",
   "metadata": {},
   "outputs": [
    {
     "name": "stdout",
     "output_type": "stream",
     "text": [
      "{'x': array([0, 1])}\n",
      "new_axes_indices: {'x': array([0, 0, 0, 0, 0, 0, 0, 0, 0, 0])}\n",
      "slice: (slice(0, 1, None),)\n",
      "rebinned_counts: [499814.]\n"
     ]
    }
   ],
   "source": [
    "rebinned_hist1 = rebin(h, new_bins=[[0, 1], [2, 3 ,4], [5]], reltol=None, abstol=None)"
   ]
  },
  {
   "cell_type": "code",
   "execution_count": 65,
   "id": "1ca53ff4-a8bd-45d4-9fed-f0a0da309db1",
   "metadata": {},
   "outputs": [
    {
     "data": {
      "text/html": [
       "<html>\n",
       "<div style=\"display:flex; align-items:center;\">\n",
       "<div style=\"width:290px;\">\n",
       "<svg xmlns=\"http://www.w3.org/2000/svg\" viewBox=\"-10 -105 270 120\">\n",
       "<line x1=\"-5\" y1=\"0\" x2=\"255\" y2=\"0\" style=\"fill:none;stroke-width:2;stroke:currentColor\"/>\n",
       "<text text-anchor=\"middle\" x=\"0\" y=\"15\" style=\"fill:currentColor;\">\n",
       "0\n",
       "</text>\n",
       "<text text-anchor=\"middle\" x=\"250\" y=\"15\" style=\"fill:currentColor;\">\n",
       "1\n",
       "</text>\n",
       "<text text-anchor=\"middle\" x=\"125.0\" y=\"15\" style=\"fill:currentColor;\">\n",
       "Axis 0\n",
       "</text>\n",
       "<polyline points=\"  0,0   0,-0 125,-0 125,-0 175,-0 175,-0 250,-0 250,0\" style=\"fill:none; stroke:currentColor;\"/>\n",
       "</svg>\n",
       "</div>\n",
       "<div style=\"flex=grow:1;\">\n",
       "Variable([0, 0.5, 0.7, 1], label='Axis 0')<br/>\n",
       "<hr style=\"margin-top:.2em; margin-bottom:.2em;\"/>\n",
       "Double() Σ=0.0\n",
       "\n",
       "</div>\n",
       "</div>\n",
       "</html>"
      ],
      "text/plain": [
       "Hist(Variable([0, 0.5, 0.7, 1], label='Axis 0'), storage=Double())"
      ]
     },
     "execution_count": 65,
     "metadata": {},
     "output_type": "execute_result"
    }
   ],
   "source": [
    "rebinned_hist1"
   ]
  },
  {
   "cell_type": "code",
   "execution_count": 114,
   "id": "a7380fdb-11c4-4b30-9a59-94872046fcd1",
   "metadata": {},
   "outputs": [
    {
     "name": "stderr",
     "output_type": "stream",
     "text": [
      "/var/folders/v1/w_dx9xn11zlgpffrd5ptcb380000gn/T/ipykernel_92583/966693331.py:24: DeprecationWarning: Accessing storage type has changed from _storage_type to storage_type, and will be removed in future.\n",
      "  hnew = hist.Hist(*axes, name=h.name, storage=h._storage_type())\n",
      "/var/folders/v1/w_dx9xn11zlgpffrd5ptcb380000gn/T/ipykernel_92583/966693331.py:45: DeprecationWarning: Accessing storage type has changed from _storage_type to storage_type, and will be removed in future.\n",
      "  if hnew._storage_type() == hist.storage.Weight():\n"
     ]
    },
    {
     "data": {
      "text/html": [
       "<html>\n",
       "<div style=\"display:flex; align-items:center;\">\n",
       "<div style=\"width:290px;\">\n",
       "<svg xmlns=\"http://www.w3.org/2000/svg\" viewBox=\"-10 -105 270 120\">\n",
       "<line x1=\"-5\" y1=\"0\" x2=\"255\" y2=\"0\" style=\"fill:none;stroke-width:2;stroke:currentColor\"/>\n",
       "<text text-anchor=\"middle\" x=\"0\" y=\"15\" style=\"fill:currentColor;\">\n",
       "0\n",
       "</text>\n",
       "<text text-anchor=\"middle\" x=\"250\" y=\"15\" style=\"fill:currentColor;\">\n",
       "1\n",
       "</text>\n",
       "<text text-anchor=\"middle\" x=\"125.0\" y=\"15\" style=\"fill:currentColor;\">\n",
       "x\n",
       "</text>\n",
       "<polyline points=\"  0,0   0,-100  75,-100  75,-95.4 100,-95.4 100,-78.5 250,-78.5 250,0\" style=\"fill:none; stroke:currentColor;\"/>\n",
       "</svg>\n",
       "</div>\n",
       "<div style=\"flex=grow:1;\">\n",
       "Variable([0, 0.3, 0.4, 1], name='x')<br/>\n",
       "<hr style=\"margin-top:.2em; margin-bottom:.2em;\"/>\n",
       "Double() Σ=341569.0 <em>(1000000.0 with flow)</em>\n",
       "\n",
       "</div>\n",
       "</div>\n",
       "</html>"
      ],
      "text/plain": [
       "Hist(Variable([0, 0.3, 0.4, 1], name='x'), storage=Double()) # Sum: 341569.0 (1000000.0 with flow)"
      ]
     },
     "execution_count": 114,
     "metadata": {},
     "output_type": "execute_result"
    }
   ],
   "source": [
    "n = rebin_hist(h, x=[0., 0.3, 0.4, 1.])\n",
    "n"
   ]
  },
  {
   "cell_type": "markdown",
   "id": "3c0f9973-aca0-4d81-8450-cc65b642b8cf",
   "metadata": {},
   "source": [
    "n.axes, h.axes"
   ]
  },
  {
   "cell_type": "code",
   "execution_count": null,
   "id": "a3cdf09d-fb99-4059-9ac8-d50b8de3582c",
   "metadata": {},
   "outputs": [],
   "source": []
  },
  {
   "cell_type": "code",
   "execution_count": null,
   "id": "a6b9e67a-312d-4221-b5b1-771a3b52a3d0",
   "metadata": {},
   "outputs": [],
   "source": []
  },
  {
   "cell_type": "code",
   "execution_count": 73,
   "id": "bbe80665-bfc0-4a88-9516-4274b1c356fc",
   "metadata": {},
   "outputs": [
    {
     "data": {
      "text/plain": [
       "(array([499814.]),\n",
       " array([39987., 39353., 38956., 37622., 36103., 34453., 32256., 30020.,\n",
       "        27562., 25257.]))"
      ]
     },
     "execution_count": 73,
     "metadata": {},
     "output_type": "execute_result"
    }
   ],
   "source": [
    "h.view(flow=True)[0:1], h.values()"
   ]
  },
  {
   "cell_type": "code",
   "execution_count": 104,
   "id": "595b080b-d77f-46fb-a3ac-acfe4e2a8d3e",
   "metadata": {},
   "outputs": [
    {
     "data": {
      "text/plain": [
       "159014.0"
      ]
     },
     "execution_count": 104,
     "metadata": {},
     "output_type": "execute_result"
    }
   ],
   "source": [
    "h[{\"x\": 5j}]"
   ]
  },
  {
   "cell_type": "code",
   "execution_count": 109,
   "id": "653e05c8-370c-47a4-9f3f-8a4b855cd1e6",
   "metadata": {},
   "outputs": [
    {
     "data": {
      "text/html": [
       "<html>\n",
       "<div style=\"display:flex; align-items:center;\">\n",
       "<div style=\"width:290px;\">\n",
       "<svg xmlns=\"http://www.w3.org/2000/svg\" viewBox=\"-10 -105 270 120\">\n",
       "<line x1=\"-5\" y1=\"0\" x2=\"255\" y2=\"0\" style=\"fill:none;stroke-width:2;stroke:currentColor\"/>\n",
       "<text text-anchor=\"middle\" x=\"0\" y=\"15\" style=\"fill:currentColor;\">\n",
       "0\n",
       "</text>\n",
       "<text text-anchor=\"middle\" x=\"250\" y=\"15\" style=\"fill:currentColor;\">\n",
       "1\n",
       "</text>\n",
       "<text text-anchor=\"middle\" x=\"125.0\" y=\"15\" style=\"fill:currentColor;\">\n",
       "x-axis\n",
       "</text>\n",
       "<polyline points=\"  0,0   0,-100 125,-100 125,-78.8 250,-78.8 250,0\" style=\"fill:none; stroke:currentColor;\"/>\n",
       "</svg>\n",
       "</div>\n",
       "<div style=\"flex=grow:1;\">\n",
       "Regular(2, 0, 1, name='x', label='x-axis')<br/>\n",
       "<hr style=\"margin-top:.2em; margin-bottom:.2em;\"/>\n",
       "Double() Σ=341549.0 <em>(1000000.0 with flow)</em>\n",
       "\n",
       "</div>\n",
       "</div>\n",
       "</html>"
      ],
      "text/plain": [
       "Hist(Regular(2, 0, 1, name='x', label='x-axis'), storage=Double()) # Sum: 341549.0 (1000000.0 with flow)"
      ]
     },
     "execution_count": 109,
     "metadata": {},
     "output_type": "execute_result"
    }
   ],
   "source": [
    "h[::5j]  # x from .3 to the end, y is rebinned by 2"
   ]
  },
  {
   "cell_type": "code",
   "execution_count": 110,
   "id": "90b3829f-84ae-42cd-a64c-d73f8bf942d1",
   "metadata": {},
   "outputs": [
    {
     "data": {
      "text/plain": [
       "[StairsArtists(stairs=<matplotlib.patches.StepPatch object at 0x1201cabd0>, errorbar=<ErrorbarContainer object of 3 artists>, legend_artist=<ErrorbarContainer object of 3 artists>)]"
      ]
     },
     "execution_count": 110,
     "metadata": {},
     "output_type": "execute_result"
    },
    {
     "data": {
      "image/png": "[encoded data removed]",
      "text/plain": [
       "<Figure size 640x480 with 1 Axes>"
      ]
     },
     "metadata": {},
     "output_type": "display_data"
    }
   ],
   "source": [
    "h.plot()"
   ]
  },
  {
   "cell_type": "code",
   "execution_count": 111,
   "id": "bdeceae1-cc1a-4e65-bfd4-4a93e48e176e",
   "metadata": {},
   "outputs": [
    {
     "ename": "TypeError",
     "evalue": "Only 2D-histogram has plot2d_full",
     "output_type": "error",
     "traceback": [
      "\u001b[0;31m---------------------------------------------------------------------------\u001b[0m",
      "\u001b[0;31mTypeError\u001b[0m                                 Traceback (most recent call last)",
      "\u001b[0;32m/var/folders/v1/w_dx9xn11zlgpffrd5ptcb380000gn/T/ipykernel_71763/2177182232.py\u001b[0m in \u001b[0;36m<cell line: 0>\u001b[0;34m()\u001b[0m\n\u001b[0;32m----> 1\u001b[0;31m \u001b[0mh\u001b[0m\u001b[0;34m.\u001b[0m\u001b[0mplot2d_full\u001b[0m\u001b[0;34m(\u001b[0m\u001b[0;34m)\u001b[0m\u001b[0;34m\u001b[0m\u001b[0;34m\u001b[0m\u001b[0m\n\u001b[0m",
      "\u001b[0;32m~/Code/HEP/hist/src/hist/basehist.py\u001b[0m in \u001b[0;36mplot2d_full\u001b[0;34m(self, ax_dict, **kwargs)\u001b[0m\n\u001b[1;32m    550\u001b[0m         \u001b[0;32mfrom\u001b[0m \u001b[0mhist\u001b[0m \u001b[0;32mimport\u001b[0m \u001b[0mplot\u001b[0m\u001b[0;34m\u001b[0m\u001b[0;34m\u001b[0m\u001b[0m\n\u001b[1;32m    551\u001b[0m \u001b[0;34m\u001b[0m\u001b[0m\n\u001b[0;32m--> 552\u001b[0;31m         \u001b[0;32mreturn\u001b[0m \u001b[0mplot\u001b[0m\u001b[0;34m.\u001b[0m\u001b[0mplot2d_full\u001b[0m\u001b[0;34m(\u001b[0m\u001b[0mself\u001b[0m\u001b[0;34m,\u001b[0m \u001b[0max_dict\u001b[0m\u001b[0;34m=\u001b[0m\u001b[0max_dict\u001b[0m\u001b[0;34m,\u001b[0m \u001b[0;34m**\u001b[0m\u001b[0mkwargs\u001b[0m\u001b[0;34m)\u001b[0m\u001b[0;34m\u001b[0m\u001b[0;34m\u001b[0m\u001b[0m\n\u001b[0m\u001b[1;32m    553\u001b[0m \u001b[0;34m\u001b[0m\u001b[0m\n\u001b[1;32m    554\u001b[0m     def plot_ratio(\n",
      "\u001b[0;32m~/Code/HEP/hist/src/hist/plot.py\u001b[0m in \u001b[0;36mplot2d_full\u001b[0;34m(self, ax_dict, **kwargs)\u001b[0m\n\u001b[1;32m    212\u001b[0m     \u001b[0;31m# Type judgement\u001b[0m\u001b[0;34m\u001b[0m\u001b[0;34m\u001b[0m\u001b[0m\n\u001b[1;32m    213\u001b[0m     \u001b[0;32mif\u001b[0m \u001b[0mself\u001b[0m\u001b[0;34m.\u001b[0m\u001b[0mndim\u001b[0m \u001b[0;34m!=\u001b[0m \u001b[0;36m2\u001b[0m\u001b[0;34m:\u001b[0m\u001b[0;34m\u001b[0m\u001b[0;34m\u001b[0m\u001b[0m\n\u001b[0;32m--> 214\u001b[0;31m         \u001b[0;32mraise\u001b[0m \u001b[0mTypeError\u001b[0m\u001b[0;34m(\u001b[0m\u001b[0;34m\"Only 2D-histogram has plot2d_full\"\u001b[0m\u001b[0;34m)\u001b[0m\u001b[0;34m\u001b[0m\u001b[0;34m\u001b[0m\u001b[0m\n\u001b[0m\u001b[1;32m    215\u001b[0m \u001b[0;34m\u001b[0m\u001b[0m\n\u001b[1;32m    216\u001b[0m     \u001b[0;32mif\u001b[0m \u001b[0max_dict\u001b[0m \u001b[0;32mis\u001b[0m \u001b[0;32mNone\u001b[0m\u001b[0;34m:\u001b[0m\u001b[0;34m\u001b[0m\u001b[0;34m\u001b[0m\u001b[0m\n",
      "\u001b[0;31mTypeError\u001b[0m: Only 2D-histogram has plot2d_full"
     ]
    }
   ],
   "source": [
    "h.plot2d_full()"
   ]
  },
  {
   "cell_type": "code",
   "execution_count": 127,
   "id": "e1156bc8-cbaf-4cf0-be70-5a0ede6fa6c5",
   "metadata": {},
   "outputs": [],
   "source": [
    "from hist import loc, rebin, sum"
   ]
  },
  {
   "cell_type": "code",
   "execution_count": 152,
   "id": "161824e0-c222-46bb-98ff-0477fbd51d1b",
   "metadata": {},
   "outputs": [
    {
     "data": {
      "text/plain": [
       "\u001b[0;31mInit signature:\u001b[0m \u001b[0mrebin\u001b[0m\u001b[0;34m(\u001b[0m\u001b[0mvalue\u001b[0m\u001b[0;34m:\u001b[0m \u001b[0;34m'int'\u001b[0m\u001b[0;34m)\u001b[0m \u001b[0;34m->\u001b[0m \u001b[0;34m'None'\u001b[0m\u001b[0;34m\u001b[0m\u001b[0;34m\u001b[0m\u001b[0m\n",
       "\u001b[0;31mDocstring:\u001b[0m      <no docstring>\n",
       "\u001b[0;31mFile:\u001b[0m           /opt/homebrew/lib/python3.11/site-packages/boost_histogram/tag.py\n",
       "\u001b[0;31mType:\u001b[0m           type\n",
       "\u001b[0;31mSubclasses:\u001b[0m     \n"
      ]
     },
     "metadata": {},
     "output_type": "display_data"
    }
   ],
   "source": [
    "?rebin"
   ]
  },
  {
   "cell_type": "code",
   "execution_count": 129,
   "id": "59f1a133-ce4f-440b-9877-e357a775ce1f",
   "metadata": {},
   "outputs": [
    {
     "data": {
      "text/plain": [
       "38501.0"
      ]
     },
     "execution_count": 129,
     "metadata": {},
     "output_type": "execute_result"
    }
   ],
   "source": [
    "h[2:3:sum]"
   ]
  },
  {
   "cell_type": "code",
   "execution_count": 134,
   "id": "65c7aa85-3eb1-4781-bfb4-00e3117741d6",
   "metadata": {},
   "outputs": [
    {
     "data": {
      "text/html": [
       "<html>\n",
       "<div style=\"display:flex; align-items:center;\">\n",
       "<div style=\"width:290px;\">\n",
       "<svg xmlns=\"http://www.w3.org/2000/svg\" viewBox=\"-10 -105 270 120\">\n",
       "<line x1=\"-5\" y1=\"0\" x2=\"255\" y2=\"0\" style=\"fill:none;stroke-width:2;stroke:currentColor\"/>\n",
       "<text text-anchor=\"middle\" x=\"0\" y=\"15\" style=\"fill:currentColor;\">\n",
       "0.2\n",
       "</text>\n",
       "<text text-anchor=\"middle\" x=\"250\" y=\"15\" style=\"fill:currentColor;\">\n",
       "0.8\n",
       "</text>\n",
       "<text text-anchor=\"middle\" x=\"125.0\" y=\"15\" style=\"fill:currentColor;\">\n",
       "x-axis\n",
       "</text>\n",
       "<polyline points=\"  0,0   0,-100 83.3333,-100 83.3333,-93.1 166.667,-93.1 166.667,-82.5 250,-82.5 250,0\" style=\"fill:none; stroke:currentColor;\"/>\n",
       "</svg>\n",
       "</div>\n",
       "<div style=\"flex=grow:1;\">\n",
       "Regular(3, 0.2, 0.8, name='x', label='x-axis')<br/>\n",
       "<hr style=\"margin-top:.2em; margin-bottom:.2em;\"/>\n",
       "Double() Σ=208987.0 <em>(1000000.0 with flow)</em>\n",
       "\n",
       "</div>\n",
       "</div>\n",
       "</html>"
      ],
      "text/plain": [
       "Hist(Regular(3, 0.2, 0.8, name='x', label='x-axis'), storage=Double()) # Sum: 208987.0 (1000000.0 with flow)"
      ]
     },
     "execution_count": 134,
     "metadata": {},
     "output_type": "execute_result"
    }
   ],
   "source": [
    "h[{0: slice(2, 9, 2j)}] # rebin axis 0 by two"
   ]
  },
  {
   "cell_type": "code",
   "execution_count": null,
   "id": "d463a763-ae25-452e-9f62-48764caf72bc",
   "metadata": {},
   "outputs": [],
   "source": []
  }
 ],
 "metadata": {
  "kernelspec": {
   "display_name": "Python 3 (ipykernel)",
   "language": "python",
   "name": "python3"
  },
  "language_info": {
   "codemirror_mode": {
    "name": "ipython",
    "version": 3
   },
   "file_extension": ".py",
   "mimetype": "text/x-python",
   "name": "python",
   "nbconvert_exporter": "python",
   "pygments_lexer": "ipython3",
   "version": "3.11.5"
  }
 },
 "nbformat": 4,
 "nbformat_minor": 5
}
