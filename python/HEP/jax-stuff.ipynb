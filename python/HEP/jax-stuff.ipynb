{
 "cells": [
  {
   "cell_type": "code",
   "execution_count": 2,
   "id": "bf79e33d-3ec5-425a-8849-c36e1cb6eb16",
   "metadata": {},
   "outputs": [],
   "source": [
    "import jax\n",
    "import awkward as ak\n",
    "import numba\n",
    "import numpy as np\n",
    "\n",
    "ak.jax.register_and_check()"
   ]
  },
  {
   "cell_type": "code",
   "execution_count": 2,
   "id": "41ec25a7-d1c8-4086-835f-b4928bc57b5f",
   "metadata": {},
   "outputs": [
    {
     "data": {
      "text/plain": [
       "(Array(289., dtype=float32),\n",
       " <Array [[34.0, 34.0, 34.0], [34.0, 34.0]] type='2 * var * float32'>)"
      ]
     },
     "execution_count": 2,
     "metadata": {},
     "output_type": "execute_result"
    }
   ],
   "source": [
    "a = ak.Array([[1.0, 2, 3], [5, 6]], backend=\"jax\")\n",
    "\n",
    "def f(x):\n",
    "    return ak.sum(ak.sum(x) * x)\n",
    "\n",
    "f(a), jax.grad(f)(a)"
   ]
  },
  {
   "cell_type": "code",
   "execution_count": null,
   "id": "ae4bc5c9-9c73-4d9f-8c32-90fe1096d484",
   "metadata": {},
   "outputs": [],
   "source": [
    "import jax\n",
    "import awkward as ak\n",
    "\n",
    "ak.jax.register_and_check()"
   ]
  },
  {
   "cell_type": "code",
   "execution_count": 3,
   "id": "a0c3c369-3ab8-4882-bd1e-bb93c5667bc5",
   "metadata": {},
   "outputs": [
    {
     "data": {
      "text/plain": [
       "(Array(57.8, dtype=float32),\n",
       " <Array [[6.8, 6.8, 6.8], [6.8, 6.8]] type='2 * var * float32'>)"
      ]
     },
     "execution_count": 3,
     "metadata": {},
     "output_type": "execute_result"
    }
   ],
   "source": [
    "a = ak.Array([[1.0, 2, 3], [5, 6]], backend=\"jax\")\n",
    "\n",
    "def f(x):\n",
    "    return ak.mean(ak.sum(x) * x)\n",
    "\n",
    "f(a), jax.grad(f)(a)"
   ]
  },
  {
   "cell_type": "code",
   "execution_count": 7,
   "id": "243e0ec6-da47-4b73-97a7-7130719df2e7",
   "metadata": {},
   "outputs": [],
   "source": [
    "behavior = {}\n",
    "\n",
    "input_arr = ak.Array([1.0], backend=\"jax\")\n",
    "\n",
    "@numba.vectorize(\n",
    "    [\n",
    "        numba.float32(numba.float32, numba.float32),\n",
    "        numba.float64(numba.float64, numba.float64),\n",
    "    ]\n",
    ")\n",
    "def _some_kernel(x, y):\n",
    "    return x * x + y * y"
   ]
  },
  {
   "cell_type": "code",
   "execution_count": 8,
   "id": "9a28b1f7-52db-4536-a1ef-d0b438dffb54",
   "metadata": {},
   "outputs": [
    {
     "data": {
      "text/html": [
       "<pre>[2.0]\n",
       "-----------------\n",
       "type: 1 * float32</pre>"
      ],
      "text/plain": [
       "<Array [2.0] type='1 * float32'>"
      ]
     },
     "execution_count": 8,
     "metadata": {},
     "output_type": "execute_result"
    }
   ],
   "source": [
    "@ak.mixin_class(behavior)\n",
    "class SomeClass:\n",
    "    @property\n",
    "    def some_kernel(self):\n",
    "        return _some_kernel(self.x, self.y)\n",
    "\n",
    "ak.behavior.update(behavior)\n",
    "\n",
    "arr = ak.zip({\"x\": input_arr, \"y\": input_arr}, with_name=\"SomeClass\")\n",
    "\n",
    "arr.some_kernel"
   ]
  },
  {
   "cell_type": "code",
   "execution_count": 1,
   "id": "4bccdbda-f3ac-4826-a83b-553428e29ffb",
   "metadata": {},
   "outputs": [
    {
     "name": "stderr",
     "output_type": "stream",
     "text": [
      "/opt/homebrew/lib/python3.11/site-packages/coffea/nanoevents/methods/candidate.py:11: FutureWarning: In version 2024.7.0 (target date: 2024-06-30 11:59:59-05:00), this will be an error.\n",
      "To raise these warnings as errors (and get stack traces to find out where they're called), run\n",
      "    import warnings\n",
      "    warnings.filterwarnings(\"error\", module=\"coffea.*\")\n",
      "after the first `import coffea` or use `@pytest.mark.filterwarnings(\"error:::coffea.*\")` in pytest.\n",
      "Issue: coffea.nanoevents.methods.vector will be removed and replaced with scikit-hep vector. Nanoevents schemas internal to coffea will be migrated. Otherwise please consider using that package!.\n",
      "  from coffea.nanoevents.methods import vector\n"
     ]
    }
   ],
   "source": [
    "import awkward as ak\n",
    "from coffea.nanoevents.methods import candidate\n",
    "import numpy as np\n",
    "import uproot\n",
    "\n",
    "ak.jax.register_and_check()"
   ]
  },
  {
   "cell_type": "code",
   "execution_count": 4,
   "id": "a3d22905-fe73-415e-a8c8-bd7fe2a11eb1",
   "metadata": {},
   "outputs": [
    {
     "name": "stdout",
     "output_type": "stream",
     "text": [
      "[0.03125, 0.0, nan, 0.0, 0.03125]\n"
     ]
    }
   ],
   "source": [
    "ak.behavior.update(candidate.behavior)\n",
    "\n",
    "ttbar_file = \"https://github.com/scikit-hep/scikit-hep-testdata/\"\\\n",
    "    \"raw/main/src/skhep_testdata/data/nanoAOD_2015_CMS_Open_Data_ttbar.root\"\n",
    "\n",
    "with uproot.open(ttbar_file) as f:\n",
    "    arr = f[\"Events\"].arrays([\"Electron_pt\", \"Electron_eta\", \"Electron_phi\",\n",
    "                              \"Electron_mass\", \"Electron_charge\"])\n",
    "\n",
    "px = arr.Electron_pt * np.cos(arr.Electron_phi)\n",
    "py = arr.Electron_pt * np.sin(arr.Electron_phi)\n",
    "pz = arr.Electron_pt * np.sinh(arr.Electron_eta)\n",
    "E = np.sqrt(arr.Electron_mass**2 + px**2 + py**2 + pz**2)\n",
    "\n",
    "evtfilter = ak.num(arr[\"Electron_pt\"]) >= 2\n",
    "\n",
    "els = ak.zip({\"pt\": arr.Electron_pt, \"eta\": arr.Electron_eta, \"phi\": arr.Electron_phi,\n",
    "              \"energy\": E, \"charge\": arr.Electron_charge}, with_name=\"PtEtaPhiECandidate\")[evtfilter]\n",
    "els = ak.to_backend(els, \"jax\")\n",
    "\n",
    "print(els[:, 0].mass)"
   ]
  },
  {
   "cell_type": "code",
   "execution_count": 9,
   "id": "4c517474-d1a2-4b34-a4bc-918031adbb6d",
   "metadata": {},
   "outputs": [],
   "source": [
    "import jax\n",
    "import awkward as ak\n",
    "import numba\n",
    "import numpy as np\n",
    "\n",
    "ak.jax.register_and_check()"
   ]
  },
  {
   "cell_type": "code",
   "execution_count": 3,
   "id": "0fdd3403-29c2-4ebf-bd14-12216fc67ccf",
   "metadata": {},
   "outputs": [],
   "source": [
    "def f(x):\n",
    "    return np.power(x[[2, 2, 0], ::-1], 3)"
   ]
  },
  {
   "cell_type": "code",
   "execution_count": 4,
   "id": "c450f664-3fda-4794-825b-ec1f2912ffa5",
   "metadata": {},
   "outputs": [],
   "source": [
    "primals = ak.Array([[1.0, 2, 3], [], [5, 6]], backend=\"jax\")\n",
    "tangents = ak.Array([[0.0, 1, 0], [], [0, 0]], backend=\"jax\")"
   ]
  },
  {
   "cell_type": "code",
   "execution_count": 6,
   "id": "2e7073e8-cf52-4a5b-ba51-e85eebf242fe",
   "metadata": {},
   "outputs": [],
   "source": [
    "val, grad = jax.jvp(f, (primals,), (tangents,))"
   ]
  },
  {
   "cell_type": "code",
   "execution_count": 7,
   "id": "10e18380-c67a-45f2-b957-32358f6c9deb",
   "metadata": {},
   "outputs": [
    {
     "data": {
      "text/plain": [
       "(<Array [[216.0, 125.0], [...], [27.0, 8.0, 1.0]] type='3 * var * float32'>,\n",
       " <Array [[0.0, 0.0], [0.0, ...], [0.0, 12.0, 0.0]] type='3 * var * float32'>)"
      ]
     },
     "execution_count": 7,
     "metadata": {},
     "output_type": "execute_result"
    }
   ],
   "source": [
    "val, grad"
   ]
  },
  {
   "cell_type": "code",
   "execution_count": 12,
   "id": "f74b69cf-69a1-44a8-b0df-2bd28217cc12",
   "metadata": {},
   "outputs": [
    {
     "name": "stdout",
     "output_type": "stream",
     "text": [
      "[[1.0, 1.0, 1.0], [], [1.0, 1.0]]\n"
     ]
    }
   ],
   "source": [
    "print(jax.grad(np.sum)(primals))"
   ]
  },
  {
   "cell_type": "code",
   "execution_count": 11,
   "id": "32b5dcbc-f385-4f33-93f2-1578d60c3640",
   "metadata": {},
   "outputs": [
    {
     "data": {
      "text/plain": [
       "Array(17., dtype=float32)"
      ]
     },
     "execution_count": 11,
     "metadata": {},
     "output_type": "execute_result"
    }
   ],
   "source": [
    "ak.sum(primals)"
   ]
  },
  {
   "cell_type": "code",
   "execution_count": 13,
   "id": "b709d2b6-dd26-4059-b0ae-80d2fba2e976",
   "metadata": {},
   "outputs": [],
   "source": [
    "primals = np.array([[1.0, 2, 3], [5, 6, 7]])"
   ]
  },
  {
   "cell_type": "code",
   "execution_count": 14,
   "id": "9c86f4e8-123b-47c6-a836-8322a8873697",
   "metadata": {},
   "outputs": [
    {
     "name": "stdout",
     "output_type": "stream",
     "text": [
      "[[1. 1. 1.]\n",
      " [1. 1. 1.]]\n"
     ]
    }
   ],
   "source": [
    "print(jax.grad(np.sum)(primals))"
   ]
  },
  {
   "cell_type": "code",
   "execution_count": null,
   "id": "e0af0b60-8efd-4fb9-bb70-61461f8ca889",
   "metadata": {},
   "outputs": [],
   "source": []
  }
 ],
 "metadata": {
  "kernelspec": {
   "display_name": "Python 3 (ipykernel)",
   "language": "python",
   "name": "python3"
  },
  "language_info": {
   "codemirror_mode": {
    "name": "ipython",
    "version": 3
   },
   "file_extension": ".py",
   "mimetype": "text/x-python",
   "name": "python",
   "nbconvert_exporter": "python",
   "pygments_lexer": "ipython3",
   "version": "3.11.5"
  }
 },
 "nbformat": 4,
 "nbformat_minor": 5
}
