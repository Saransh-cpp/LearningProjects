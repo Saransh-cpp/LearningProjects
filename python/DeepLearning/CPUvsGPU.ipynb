{
 "cells": [
  {
   "cell_type": "code",
   "execution_count": 1,
   "id": "improved-fields",
   "metadata": {},
   "outputs": [],
   "source": [
    "import numpy as np\n",
    "import tensorflow as tf\n",
    "from tensorflow import keras\n",
    "import matplotlib.pyplot as plt"
   ]
  },
  {
   "cell_type": "code",
   "execution_count": 2,
   "id": "exciting-nation",
   "metadata": {},
   "outputs": [
    {
     "data": {
      "text/plain": [
       "[PhysicalDevice(name='/physical_device:CPU:0', device_type='CPU'),\n",
       " PhysicalDevice(name='/physical_device:GPU:0', device_type='GPU')]"
      ]
     },
     "execution_count": 2,
     "metadata": {},
     "output_type": "execute_result"
    }
   ],
   "source": [
    "tf.config.experimental.list_physical_devices()"
   ]
  },
  {
   "cell_type": "code",
   "execution_count": 3,
   "id": "northern-theology",
   "metadata": {},
   "outputs": [
    {
     "data": {
      "text/plain": [
       "'2.6.0'"
      ]
     },
     "execution_count": 3,
     "metadata": {},
     "output_type": "execute_result"
    }
   ],
   "source": [
    "tf.__version__"
   ]
  },
  {
   "cell_type": "code",
   "execution_count": 4,
   "id": "collect-voltage",
   "metadata": {},
   "outputs": [
    {
     "data": {
      "text/plain": [
       "True"
      ]
     },
     "execution_count": 4,
     "metadata": {},
     "output_type": "execute_result"
    }
   ],
   "source": [
    "tf.test.is_built_with_cuda()"
   ]
  },
  {
   "cell_type": "code",
   "execution_count": 5,
   "id": "level-situation",
   "metadata": {},
   "outputs": [
    {
     "data": {
      "text/plain": [
       "((50000, 32, 32, 3), (50000, 1))"
      ]
     },
     "execution_count": 5,
     "metadata": {},
     "output_type": "execute_result"
    }
   ],
   "source": [
    "(x_train, y_train), (x_test, y_test) = tf.keras.datasets.cifar10.load_data()\n",
    "x_train.shape, y_train.shape"
   ]
  },
  {
   "cell_type": "code",
   "execution_count": 6,
   "id": "violent-support",
   "metadata": {},
   "outputs": [],
   "source": [
    "x_train_scaled = x_train / 255.0\n",
    "x_test_scaled = x_test / 255.0"
   ]
  },
  {
   "cell_type": "code",
   "execution_count": 7,
   "id": "friendly-rebound",
   "metadata": {},
   "outputs": [],
   "source": [
    "y_train_categorical = keras.utils.to_categorical(\n",
    "    y_train, num_classes=10, dtype='float32'\n",
    ")\n",
    "y_test_categorical = keras.utils.to_categorical(\n",
    "    y_test, num_classes=10, dtype='float32'\n",
    ")"
   ]
  },
  {
   "cell_type": "code",
   "execution_count": 8,
   "id": "exciting-physics",
   "metadata": {},
   "outputs": [
    {
     "name": "stdout",
     "output_type": "stream",
     "text": [
      "Epoch 1/50\n",
      "1563/1563 [==============================] - 15s 8ms/step - loss: 1.8064 - accuracy: 0.3578\n",
      "Epoch 2/50\n",
      "1563/1563 [==============================] - 13s 8ms/step - loss: 1.6203 - accuracy: 0.4282\n",
      "Epoch 3/50\n",
      "1563/1563 [==============================] - 12s 8ms/step - loss: 1.5362 - accuracy: 0.4589\n",
      "Epoch 4/50\n",
      "1563/1563 [==============================] - 13s 8ms/step - loss: 1.4788 - accuracy: 0.4799\n",
      "Epoch 5/50\n",
      "1563/1563 [==============================] - 18s 12ms/step - loss: 1.4271 - accuracy: 0.4993\n",
      "Epoch 6/50\n",
      "1563/1563 [==============================] - 14s 9ms/step - loss: 1.3843 - accuracy: 0.5123\n",
      "Epoch 7/50\n",
      "1563/1563 [==============================] - 17s 11ms/step - loss: 1.3438 - accuracy: 0.5298\n",
      "Epoch 8/50\n",
      "1563/1563 [==============================] - 14s 9ms/step - loss: 1.3108 - accuracy: 0.5408\n",
      "Epoch 9/50\n",
      "1563/1563 [==============================] - 14s 9ms/step - loss: 1.2776 - accuracy: 0.5535\n",
      "Epoch 10/50\n",
      "1563/1563 [==============================] - 16s 10ms/step - loss: 1.2409 - accuracy: 0.5683\n",
      "Epoch 11/50\n",
      "1563/1563 [==============================] - 15s 10ms/step - loss: 1.2127 - accuracy: 0.5763\n",
      "Epoch 12/50\n",
      "1563/1563 [==============================] - 16s 10ms/step - loss: 1.1841 - accuracy: 0.5859\n",
      "Epoch 13/50\n",
      "1563/1563 [==============================] - 17s 11ms/step - loss: 1.1559 - accuracy: 0.5962\n",
      "Epoch 14/50\n",
      "1563/1563 [==============================] - 14s 9ms/step - loss: 1.1258 - accuracy: 0.6069\n",
      "Epoch 15/50\n",
      "1563/1563 [==============================] - 13s 9ms/step - loss: 1.0968 - accuracy: 0.6177\n",
      "Epoch 16/50\n",
      "1563/1563 [==============================] - 14s 9ms/step - loss: 1.0700 - accuracy: 0.6272\n",
      "Epoch 17/50\n",
      "1563/1563 [==============================] - 13s 9ms/step - loss: 1.0429 - accuracy: 0.6368\n",
      "Epoch 18/50\n",
      "1563/1563 [==============================] - 15s 9ms/step - loss: 1.0155 - accuracy: 0.6457\n",
      "Epoch 19/50\n",
      "1563/1563 [==============================] - 13s 8ms/step - loss: 0.9881 - accuracy: 0.6584\n",
      "Epoch 20/50\n",
      "1563/1563 [==============================] - 14s 9ms/step - loss: 0.9636 - accuracy: 0.6658\n",
      "Epoch 21/50\n",
      "1563/1563 [==============================] - 14s 9ms/step - loss: 0.9328 - accuracy: 0.6776\n",
      "Epoch 22/50\n",
      "1563/1563 [==============================] - 17s 11ms/step - loss: 0.9081 - accuracy: 0.6882\n",
      "Epoch 23/50\n",
      "1563/1563 [==============================] - 15s 9ms/step - loss: 0.8802 - accuracy: 0.6963 0s - loss: 0.8\n",
      "Epoch 24/50\n",
      "1563/1563 [==============================] - 15s 10ms/step - loss: 0.8550 - accuracy: 0.7060\n",
      "Epoch 25/50\n",
      "1563/1563 [==============================] - 14s 9ms/step - loss: 0.8270 - accuracy: 0.7168\n",
      "Epoch 26/50\n",
      "1563/1563 [==============================] - 14s 9ms/step - loss: 0.8007 - accuracy: 0.7250\n",
      "Epoch 27/50\n",
      "1563/1563 [==============================] - 13s 8ms/step - loss: 0.7742 - accuracy: 0.7374\n",
      "Epoch 28/50\n",
      "1563/1563 [==============================] - 10s 6ms/step - loss: 0.7473 - accuracy: 0.7465\n",
      "Epoch 29/50\n",
      "1563/1563 [==============================] - 10s 6ms/step - loss: 0.7189 - accuracy: 0.7575\n",
      "Epoch 30/50\n",
      "1563/1563 [==============================] - 10s 6ms/step - loss: 0.6912 - accuracy: 0.7667\n",
      "Epoch 31/50\n",
      "1563/1563 [==============================] - 10s 6ms/step - loss: 0.6679 - accuracy: 0.7755\n",
      "Epoch 32/50\n",
      "1563/1563 [==============================] - 9s 6ms/step - loss: 0.6414 - accuracy: 0.7859\n",
      "Epoch 33/50\n",
      "1563/1563 [==============================] - 10s 6ms/step - loss: 0.6169 - accuracy: 0.7942\n",
      "Epoch 34/50\n",
      "1563/1563 [==============================] - 10s 6ms/step - loss: 0.5892 - accuracy: 0.8051\n",
      "Epoch 35/50\n",
      "1563/1563 [==============================] - 9s 6ms/step - loss: 0.5611 - accuracy: 0.8153\n",
      "Epoch 36/50\n",
      "1563/1563 [==============================] - 10s 6ms/step - loss: 0.5388 - accuracy: 0.8236\n",
      "Epoch 37/50\n",
      "1563/1563 [==============================] - 10s 6ms/step - loss: 0.5150 - accuracy: 0.8325\n",
      "Epoch 38/50\n",
      "1563/1563 [==============================] - 10s 6ms/step - loss: 0.4886 - accuracy: 0.8409\n",
      "Epoch 39/50\n",
      "1563/1563 [==============================] - 10s 6ms/step - loss: 0.4680 - accuracy: 0.8494\n",
      "Epoch 40/50\n",
      "1563/1563 [==============================] - 9s 6ms/step - loss: 0.4450 - accuracy: 0.8604\n",
      "Epoch 41/50\n",
      "1563/1563 [==============================] - 9s 6ms/step - loss: 0.4189 - accuracy: 0.8687\n",
      "Epoch 42/50\n",
      "1563/1563 [==============================] - 10s 6ms/step - loss: 0.3959 - accuracy: 0.8747\n",
      "Epoch 43/50\n",
      "1563/1563 [==============================] - 10s 6ms/step - loss: 0.3739 - accuracy: 0.8858\n",
      "Epoch 44/50\n",
      "1563/1563 [==============================] - 10s 6ms/step - loss: 0.3537 - accuracy: 0.8925\n",
      "Epoch 45/50\n",
      "1563/1563 [==============================] - 10s 6ms/step - loss: 0.3356 - accuracy: 0.8990\n",
      "Epoch 46/50\n",
      "1563/1563 [==============================] - 10s 6ms/step - loss: 0.3171 - accuracy: 0.9063\n",
      "Epoch 47/50\n",
      "1563/1563 [==============================] - 10s 6ms/step - loss: 0.2955 - accuracy: 0.9135\n",
      "Epoch 48/50\n",
      "1563/1563 [==============================] - 10s 6ms/step - loss: 0.2818 - accuracy: 0.9193\n",
      "Epoch 49/50\n",
      "1563/1563 [==============================] - 10s 6ms/step - loss: 0.2614 - accuracy: 0.9267\n",
      "Epoch 50/50\n",
      "1563/1563 [==============================] - 10s 7ms/step - loss: 0.2484 - accuracy: 0.9310\n"
     ]
    },
    {
     "data": {
      "text/plain": [
       "<keras.callbacks.History at 0x143df77b850>"
      ]
     },
     "execution_count": 8,
     "metadata": {},
     "output_type": "execute_result"
    }
   ],
   "source": [
    "model = keras.Sequential([\n",
    "        keras.layers.Flatten(input_shape=(32,32,3)),\n",
    "        keras.layers.Dense(3000, activation='relu'),\n",
    "        keras.layers.Dense(3000, activation='relu'),\n",
    "        keras.layers.Dense(10, activation='sigmoid')    \n",
    "    ])\n",
    "\n",
    "model.compile(optimizer='SGD',\n",
    "              loss='categorical_crossentropy',\n",
    "              metrics=['accuracy'])\n",
    "\n",
    "model.fit(x_train_scaled[:], y_train_categorical[:], epochs=50)"
   ]
  },
  {
   "cell_type": "code",
   "execution_count": 9,
   "id": "exciting-circus",
   "metadata": {},
   "outputs": [
    {
     "name": "stdout",
     "output_type": "stream",
     "text": [
      "313/313 [==============================] - 1s 3ms/step - loss: 1.5363 - accuracy: 0.5688\n"
     ]
    },
    {
     "data": {
      "text/plain": [
       "[1.5363253355026245, 0.5687999725341797]"
      ]
     },
     "execution_count": 9,
     "metadata": {},
     "output_type": "execute_result"
    }
   ],
   "source": [
    "model.evaluate(x_test_scaled, y_test_categorical)"
   ]
  },
  {
   "cell_type": "code",
   "execution_count": 10,
   "id": "exposed-plymouth",
   "metadata": {},
   "outputs": [],
   "source": [
    "def get_model():\n",
    "    model = keras.Sequential([\n",
    "            keras.layers.Flatten(input_shape=(32,32,3)),\n",
    "            keras.layers.Dense(3000, activation='relu'),\n",
    "            keras.layers.Dense(3000, activation='relu'),\n",
    "            keras.layers.Dense(10, activation='sigmoid')    \n",
    "        ])\n",
    "\n",
    "    model.compile(optimizer='SGD',\n",
    "                  loss='categorical_crossentropy',\n",
    "                  metrics=['accuracy'])\n",
    "    return model"
   ]
  },
  {
   "cell_type": "code",
   "execution_count": 11,
   "id": "endangered-orleans",
   "metadata": {},
   "outputs": [
    {
     "name": "stdout",
     "output_type": "stream",
     "text": [
      "Epoch 1/5\n",
      "1563/1563 [==============================] - 135s 86ms/step - loss: 1.8073 - accuracy: 0.3577\n",
      "Epoch 2/5\n",
      "1563/1563 [==============================] - 130s 83ms/step - loss: 1.6189 - accuracy: 0.4305\n",
      "Epoch 3/5\n",
      "1563/1563 [==============================] - 135s 87ms/step - loss: 1.5371 - accuracy: 0.4578\n",
      "Epoch 4/5\n",
      "1563/1563 [==============================] - 134s 85ms/step - loss: 1.4773 - accuracy: 0.4817\n",
      "Epoch 5/5\n",
      "1563/1563 [==============================] - 135s 86ms/step - loss: 1.4267 - accuracy: 0.4979\n",
      "11min 12s ± 0 ns per loop (mean ± std. dev. of 1 run, 1 loop each)\n"
     ]
    }
   ],
   "source": [
    "%%timeit -n1 -r1 \n",
    "with tf.device('/CPU:0'):\n",
    "    cpu_model = get_model()\n",
    "    cpu_model.fit(x_train_scaled, y_train_categorical, epochs=5)"
   ]
  },
  {
   "cell_type": "code",
   "execution_count": 12,
   "id": "fresh-stake",
   "metadata": {},
   "outputs": [
    {
     "name": "stdout",
     "output_type": "stream",
     "text": [
      "Epoch 1/5\n",
      "1563/1563 [==============================] - 9s 6ms/step - loss: 1.8049 - accuracy: 0.3599\n",
      "Epoch 2/5\n",
      "1563/1563 [==============================] - 9s 6ms/step - loss: 1.6176 - accuracy: 0.4300\n",
      "Epoch 3/5\n",
      "1563/1563 [==============================] - 9s 6ms/step - loss: 1.5347 - accuracy: 0.4593\n",
      "Epoch 4/5\n",
      "1563/1563 [==============================] - 9s 6ms/step - loss: 1.4754 - accuracy: 0.4811\n",
      "Epoch 5/5\n",
      "1563/1563 [==============================] - 10s 6ms/step - loss: 1.4262 - accuracy: 0.4986\n",
      "47.2 s ± 0 ns per loop (mean ± std. dev. of 1 run, 1 loop each)\n"
     ]
    }
   ],
   "source": [
    "%%timeit -n1 -r1 \n",
    "with tf.device('/GPU:0'):\n",
    "    cpu_model = get_model()\n",
    "    cpu_model.fit(x_train_scaled, y_train_categorical, epochs=5)"
   ]
  }
 ],
 "metadata": {
  "kernelspec": {
   "display_name": "Python 3",
   "language": "python",
   "name": "python3"
  },
  "language_info": {
   "codemirror_mode": {
    "name": "ipython",
    "version": 3
   },
   "file_extension": ".py",
   "mimetype": "text/x-python",
   "name": "python",
   "nbconvert_exporter": "python",
   "pygments_lexer": "ipython3",
   "version": "3.9.0"
  }
 },
 "nbformat": 4,
 "nbformat_minor": 5
}
