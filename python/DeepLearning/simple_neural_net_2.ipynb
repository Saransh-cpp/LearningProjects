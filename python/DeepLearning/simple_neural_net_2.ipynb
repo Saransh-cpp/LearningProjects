{
 "cells": [
  {
   "cell_type": "code",
   "execution_count": 1,
   "id": "generous-publicity",
   "metadata": {},
   "outputs": [],
   "source": [
    "import numpy as np\n",
    "import matplotlib.pyplot as plt\n",
    "import pandas as pd"
   ]
  },
  {
   "cell_type": "code",
   "execution_count": 3,
   "id": "parental-freight",
   "metadata": {},
   "outputs": [
    {
     "data": {
      "text/plain": [
       "(      CreditScore Geography  Gender  Age  Tenure    Balance  NumOfProducts  \\\n",
       " 0             619    France  Female   42       2       0.00              1   \n",
       " 1             608     Spain  Female   41       1   83807.86              1   \n",
       " 2             502    France  Female   42       8  159660.80              3   \n",
       " 3             699    France  Female   39       1       0.00              2   \n",
       " 4             850     Spain  Female   43       2  125510.82              1   \n",
       " ...           ...       ...     ...  ...     ...        ...            ...   \n",
       " 9995          771    France    Male   39       5       0.00              2   \n",
       " 9996          516    France    Male   35      10   57369.61              1   \n",
       " 9997          709    France  Female   36       7       0.00              1   \n",
       " 9998          772   Germany    Male   42       3   75075.31              2   \n",
       " 9999          792    France  Female   28       4  130142.79              1   \n",
       " \n",
       "       HasCrCard  IsActiveMember  EstimatedSalary  \n",
       " 0             1               1        101348.88  \n",
       " 1             0               1        112542.58  \n",
       " 2             1               0        113931.57  \n",
       " 3             0               0         93826.63  \n",
       " 4             1               1         79084.10  \n",
       " ...         ...             ...              ...  \n",
       " 9995          1               0         96270.64  \n",
       " 9996          1               1        101699.77  \n",
       " 9997          0               1         42085.58  \n",
       " 9998          1               0         92888.52  \n",
       " 9999          1               0         38190.78  \n",
       " \n",
       " [10000 rows x 10 columns],\n",
       " 0       1\n",
       " 1       0\n",
       " 2       1\n",
       " 3       0\n",
       " 4       0\n",
       "        ..\n",
       " 9995    0\n",
       " 9996    0\n",
       " 9997    1\n",
       " 9998    1\n",
       " 9999    0\n",
       " Name: Exited, Length: 10000, dtype: int64)"
      ]
     },
     "execution_count": 3,
     "metadata": {},
     "output_type": "execute_result"
    }
   ],
   "source": [
    "dataset = pd.read_csv(\"Churn_modelling.csv\")\n",
    "X = dataset.iloc[:, 3:13]\n",
    "y = dataset.iloc[:, 13]\n",
    "X, y"
   ]
  },
  {
   "cell_type": "code",
   "execution_count": null,
   "id": "working-documentary",
   "metadata": {},
   "outputs": [],
   "source": []
  }
 ],
 "metadata": {
  "kernelspec": {
   "display_name": "Python 3",
   "language": "python",
   "name": "python3"
  },
  "language_info": {
   "codemirror_mode": {
    "name": "ipython",
    "version": 3
   },
   "file_extension": ".py",
   "mimetype": "text/x-python",
   "name": "python",
   "nbconvert_exporter": "python",
   "pygments_lexer": "ipython3",
   "version": "3.9.0"
  }
 },
 "nbformat": 4,
 "nbformat_minor": 5
}
