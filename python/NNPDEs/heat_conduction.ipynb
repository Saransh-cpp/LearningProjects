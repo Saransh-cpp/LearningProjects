{
 "cells": [
  {
   "cell_type": "code",
   "execution_count": null,
   "metadata": {
    "colab": {
     "base_uri": "https://localhost:8080/"
    },
    "id": "Z2PweKqXHaGp",
    "outputId": "85333610-0880-4826-d3da-e56ac4bcaa40"
   },
   "outputs": [],
   "source": [
    "pip install deepxde"
   ]
  },
  {
   "cell_type": "code",
   "execution_count": 1,
   "metadata": {
    "id": "Eq4raiEN-hu8"
   },
   "outputs": [
    {
     "name": "stderr",
     "output_type": "stream",
     "text": [
      "Using backend: tensorflow\n",
      "\n"
     ]
    }
   ],
   "source": [
    "# Import libraries:\n",
    "from __future__ import absolute_import\n",
    "from __future__ import division\n",
    "from __future__ import print_function\n",
    "\n",
    "import io\n",
    "import re\n",
    "\n",
    "import matplotlib.pyplot as plt\n",
    "import numpy as np\n",
    "import requests\n",
    "\n",
    "import deepxde as dde\n",
    "from deepxde.backend import tf\n"
   ]
  },
  {
   "cell_type": "code",
   "execution_count": 14,
   "metadata": {
    "id": "fDLgsURPSEg6"
   },
   "outputs": [],
   "source": [
    "def heat_eq_exact_solution(x, t): #For sinusoidal initial conditions\n",
    "    return np.exp(-(n**2*np.pi**2*a*t)/(L**2))*np.sin(n*np.pi*x/L)\n",
    "\n",
    "def gen_exact_solution():\n",
    "\n",
    "    # Number of points in each dimension:\n",
    "    x_dim, t_dim = (256, 201)\n",
    "    # x_dim, t_dim = (4, 4)\n",
    "\n",
    "    # Bounds of 'x' and 't':\n",
    "    x_min, t_min = (0, 0.)\n",
    "    x_max, t_max = (L, 1.)\n",
    "\n",
    "    # Create tensors:\n",
    "    t = np.linspace(t_min, t_max, num=t_dim).reshape(t_dim, 1)\n",
    "    x = np.linspace(x_min, x_max, num=x_dim).reshape(x_dim, 1)\n",
    "    usol = np.zeros((x_dim, t_dim)).reshape(x_dim, t_dim)\n",
    "\n",
    "    # Obtain the value of the exact solution for each generated point:\n",
    "    for i in range(x_dim):\n",
    "        for j in range(t_dim):\n",
    "            usol[i][j] = heat_eq_exact_solution(x[i],t[j])\n",
    "    \n",
    "    # Save solution:\n",
    "    np.savez('heat_eq_data', x=x, t=t, usol=usol)\n",
    "    data = np.load('heat_eq_data.npz')\n",
    "\n",
    "\n",
    "def gen_testdata(): # Import the dataset with the exact solution\n",
    "    data = np.load('heat_eq_data.npz')\n",
    "    t, x, exact = data[\"t\"], data[\"x\"], data[\"usol\"].T\n",
    "    xx, tt = np.meshgrid(x, t)\n",
    "    X = np.vstack((np.ravel(xx), np.ravel(tt))).T\n",
    "    y = exact.flatten()[:, None]\n",
    "\n",
    "    # print(data[\"usol\"])\n",
    "    # print(exact)\n",
    "    # print(x)\n",
    "    # print(t)\n",
    "    # print(xx)\n",
    "    # print(tt)\n",
    "    # print(np.ravel(xx))\n",
    "#     print(X)\n",
    "#     print(X.shape)\n",
    "    # print(exact.flatten())\n",
    "    # print(y)\n",
    "    return X, y\n",
    "\n",
    "def main():\n",
    "\n",
    "    # Express the PDE residual of the heat equation:\n",
    "    def pde(x, y):\n",
    "        dy_t = dde.grad.jacobian(y, x, i=0, j=1)\n",
    "        dy_xx = dde.grad.hessian(y, x, i=0, j=0)\n",
    "        return dy_t - a*dy_xx\n",
    "\n",
    "    # Computational geometry:\n",
    "    geom = dde.geometry.Interval(0, L)\n",
    "#     print(geom)\n",
    "    timedomain = dde.geometry.TimeDomain(0, 1)\n",
    "#     print(timedomain)\n",
    "    geomtime = dde.geometry.GeometryXTime(geom, timedomain)\n",
    "#     print(geomtime)\n",
    "\n",
    "\n",
    "    # Initial and boundary conditions:\n",
    "    bc = dde.DirichletBC(geomtime, lambda x: 0, lambda _, on_boundary: on_boundary)\n",
    "    ic = dde.IC(\n",
    "        geomtime, lambda x: np.sin(n*np.pi*x[:, 0:1]/L), lambda _, on_initial: on_initial\n",
    "        )\n",
    "\n",
    "    # Define the PDE problem and configurations of the network:\n",
    "    data = dde.data.TimePDE(\n",
    "        geomtime, pde, [bc, ic], num_domain=2540, num_boundary=80, num_initial=160\n",
    "    )\n",
    "#     print(data.train_points())\n",
    "#     print(data.train_points().shape)\n",
    "    net = dde.maps.FNN([2] + [20] * 3 + [1], \"tanh\", \"Glorot normal\")\n",
    "    model = dde.Model(data, net)\n",
    "\n",
    "    # Built/train the model:\n",
    "    model.compile(\"adam\", lr=1e-3)\n",
    "    model.train(epochs=20000)\n",
    "    model.compile(\"L-BFGS\")\n",
    "    losshistory, train_state = model.train()\n",
    "\n",
    "    # Plot/print the results\n",
    "    dde.saveplot(losshistory, train_state, issave=True, isplot=True)\n",
    "    X, y_true = gen_testdata()\n",
    "    y_pred = model.predict(X)\n",
    "    f = model.predict(X, operator=pde)\n",
    "    print(\"Mean residual:\", np.mean(np.absolute(f)))\n",
    "    print(\"L2 relative error:\", dde.metrics.l2_relative_error(y_true, y_pred))\n",
    "    np.savetxt(\"test.dat\", np.hstack((X, y_true, y_pred)))\n"
   ]
  },
  {
   "cell_type": "markdown",
   "metadata": {
    "id": "4ji-gX9wybd-"
   },
   "source": [
    "\n",
    "In this code we will solve the heat equation using PINN implemented with the DeepXDE library.\n",
    "\n",
    "The equation is as follows:\n",
    "\n",
    "$\\frac{\\partial u}{\\partial t} = \\alpha \\nabla^2 u\\;$ .\n",
    "\n",
    "Where $\\nabla^2$ is the laplacian differential operator, $\\alpha$ is the thermal diffusivity constant and $u$ is the function (temperature) we want to approximate.\n",
    "\n",
    "In a unidimensional case we have:\n",
    "\n",
    "$\\frac{\\partial u(x, t)}{\\partial t}$ = $\\alpha \\frac{\\partial^2u(x,t)}{{\\partial x}^2}\\;$, $\\;\\;\\;\\; x \\in [0, 1]\\;$, $\\;\\;\\;\\; t \\in [0, 1]\\;$.\n",
    "\n",
    "With Dirichlet boundary conditions \n",
    "\n",
    "$u(0, t) = u(1, t) = 0\\;$ , \n",
    "\n",
    "and periodic (sinoidal) initial conditions:\n",
    "\n",
    "$u(x, 0) = sin(n\\pi x/L)\\;$, $\\;\\;\\;\\; 0 < x < L\\;$, $\\;\\;\\;\\; n = 1, 2, ...\\;.$\n",
    "\n",
    "This setup is a common problem in many differential equations textbooks and can be physically interpreted as the variation of temperature in a uniform and unidimensional bar over time. Here, the constant $\\alpha$ is the thermal diffusivity (a property of the material that the bar is made) and $L$ is the lenght of the bar.\n",
    "\n"
   ]
  },
  {
   "cell_type": "code",
   "execution_count": 15,
   "metadata": {
    "colab": {
     "base_uri": "https://localhost:8080/",
     "height": 1000
    },
    "id": "8QInMu-MxhIj",
    "outputId": "b294ad3a-282b-4fcc-f6df-6c6fc2c16be3"
   },
   "outputs": [
    {
     "name": "stdout",
     "output_type": "stream",
     "text": [
      "[[0.         0.        ]\n",
      " [0.00392157 0.        ]\n",
      " [0.00784314 0.        ]\n",
      " ...\n",
      " [0.99215686 1.        ]\n",
      " [0.99607843 1.        ]\n",
      " [1.         1.        ]]\n",
      "(51456, 2)\n",
      "[[0.75       0.        ]\n",
      " [0.25       0.        ]\n",
      " [0.375      0.        ]\n",
      " ...\n",
      " [0.47143555 0.44995117]\n",
      " [0.34643555 0.42773438]\n",
      " [0.84643555 0.5222168 ]]\n",
      "(2780, 2)\n",
      "Compiling model...\n",
      "'compile' took 0.000675 s\n",
      "\n",
      "Training model...\n",
      "\n",
      "WARNING:tensorflow:AutoGraph could not transform <function main.<locals>.<lambda> at 0x000001DF893E90D0> and will run it as-is.\n",
      "Cause: could not parse the source code of <function main.<locals>.<lambda> at 0x000001DF893E90D0>: no matching AST found\n",
      "To silence this warning, decorate the function with @tf.autograph.experimental.do_not_convert\n",
      "WARNING: AutoGraph could not transform <function main.<locals>.<lambda> at 0x000001DF893E90D0> and will run it as-is.\n",
      "Cause: could not parse the source code of <function main.<locals>.<lambda> at 0x000001DF893E90D0>: no matching AST found\n",
      "To silence this warning, decorate the function with @tf.autograph.experimental.do_not_convert\n",
      "WARNING:tensorflow:AutoGraph could not transform <function main.<locals>.<lambda> at 0x000001DF893E9310> and will run it as-is.\n",
      "Cause: could not parse the source code of <function main.<locals>.<lambda> at 0x000001DF893E9310>: no matching AST found\n",
      "To silence this warning, decorate the function with @tf.autograph.experimental.do_not_convert\n",
      "WARNING: AutoGraph could not transform <function main.<locals>.<lambda> at 0x000001DF893E9310> and will run it as-is.\n",
      "Cause: could not parse the source code of <function main.<locals>.<lambda> at 0x000001DF893E9310>: no matching AST found\n",
      "To silence this warning, decorate the function with @tf.autograph.experimental.do_not_convert\n",
      "WARNING:tensorflow:5 out of the last 43 calls to <function Model._compile_tensorflow.<locals>.outputs_losses at 0x000001DF893EFC10> triggered tf.function retracing. Tracing is expensive and the excessive number of tracings could be due to (1) creating @tf.function repeatedly in a loop, (2) passing tensors with different shapes, (3) passing Python objects instead of tensors. For (1), please define your @tf.function outside of the loop. For (2), @tf.function has experimental_relax_shapes=True option that relaxes argument shapes that can avoid unnecessary retracing. For (3), please refer to https://www.tensorflow.org/guide/function#controlling_retracing and https://www.tensorflow.org/api_docs/python/tf/function for  more details.\n",
      "0         [2.04e-01, 7.63e-02, 5.77e-01]    [2.04e-01, 7.63e-02, 5.77e-01]    []  \n",
      "1000      [1.35e-03, 1.43e-03, 6.78e-04]    [1.35e-03, 1.43e-03, 6.78e-04]    []  \n",
      "2000      [3.58e-04, 1.35e-04, 6.89e-05]    [3.58e-04, 1.35e-04, 6.89e-05]    []  \n",
      "3000      [1.73e-04, 7.04e-05, 2.61e-05]    [1.73e-04, 7.04e-05, 2.61e-05]    []  \n",
      "4000      [9.58e-05, 4.84e-05, 2.02e-05]    [9.58e-05, 4.84e-05, 2.02e-05]    []  \n",
      "5000      [6.16e-05, 3.61e-05, 7.77e-06]    [6.16e-05, 3.61e-05, 7.77e-06]    []  \n",
      "6000      [4.80e-05, 2.86e-05, 5.96e-06]    [4.80e-05, 2.86e-05, 5.96e-06]    []  \n",
      "7000      [4.81e-05, 2.13e-05, 7.91e-06]    [4.81e-05, 2.13e-05, 7.91e-06]    []  \n",
      "8000      [2.44e-04, 1.93e-04, 8.09e-05]    [2.44e-04, 1.93e-04, 8.09e-05]    []  \n",
      "9000      [3.15e-05, 1.63e-05, 4.61e-06]    [3.15e-05, 1.63e-05, 4.61e-06]    []  \n",
      "10000     [4.90e-05, 3.54e-05, 1.78e-05]    [4.90e-05, 3.54e-05, 1.78e-05]    []  \n",
      "11000     [3.04e-05, 1.50e-05, 1.35e-05]    [3.04e-05, 1.50e-05, 1.35e-05]    []  \n",
      "12000     [2.38e-05, 1.06e-05, 3.17e-06]    [2.38e-05, 1.06e-05, 3.17e-06]    []  \n",
      "13000     [2.39e-05, 1.35e-05, 2.84e-06]    [2.39e-05, 1.35e-05, 2.84e-06]    []  \n",
      "14000     [2.78e-05, 1.28e-05, 4.98e-06]    [2.78e-05, 1.28e-05, 4.98e-06]    []  \n",
      "15000     [1.91e-05, 1.23e-05, 3.50e-06]    [1.91e-05, 1.23e-05, 3.50e-06]    []  \n",
      "16000     [2.00e-05, 7.12e-06, 1.34e-06]    [2.00e-05, 7.12e-06, 1.34e-06]    []  \n",
      "17000     [4.51e-05, 3.29e-05, 1.40e-05]    [4.51e-05, 3.29e-05, 1.40e-05]    []  \n",
      "18000     [1.46e-05, 4.41e-06, 1.03e-06]    [1.46e-05, 4.41e-06, 1.03e-06]    []  \n",
      "19000     [1.37e-05, 4.40e-06, 6.60e-07]    [1.37e-05, 4.40e-06, 6.60e-07]    []  \n",
      "20000     [1.24e-05, 3.51e-06, 7.71e-07]    [1.24e-05, 3.51e-06, 7.71e-07]    []  \n",
      "\n",
      "Best model at step 20000:\n",
      "  train loss: 1.67e-05\n",
      "  test loss: 1.67e-05\n",
      "  test metric: []\n",
      "\n",
      "'train' took 158.993733 s\n",
      "\n",
      "Compiling model...\n",
      "'compile' took 0.017545 s\n",
      "\n",
      "Training model...\n",
      "\n",
      "Step      Train loss                        Test loss                         Test metric\n",
      "20000     [1.24e-05, 3.51e-06, 7.71e-07]    [1.24e-05, 3.51e-06, 7.71e-07]    []  \n",
      "20212     [8.33e-07, 5.62e-08, 2.22e-08]    [8.33e-07, 5.62e-08, 2.22e-08]    []  \n",
      "\n",
      "Best model at step 20212:\n",
      "  train loss: 9.11e-07\n",
      "  test loss: 9.11e-07\n",
      "  test metric: []\n",
      "\n",
      "'train' took 57.267482 s\n",
      "\n",
      "Saving loss history to C:\\Users\\Saransh\\Saransh_softwares\\Learning Projects\\python\\NNPDEs\\loss.dat ...\n",
      "Saving training data to C:\\Users\\Saransh\\Saransh_softwares\\Learning Projects\\python\\NNPDEs\\train.dat ...\n",
      "Saving test data to C:\\Users\\Saransh\\Saransh_softwares\\Learning Projects\\python\\NNPDEs\\test.dat ...\n"
     ]
    },
    {
     "data": {
      "image/png": "[encoded data removed]",
      "text/plain": [
       "<Figure size 432x288 with 1 Axes>"
      ]
     },
     "metadata": {
      "needs_background": "light"
     },
     "output_type": "display_data"
    },
    {
     "data": {
      "image/png": "[encoded data removed]",
      "text/plain": [
       "<Figure size 432x288 with 1 Axes>"
      ]
     },
     "metadata": {
      "needs_background": "light"
     },
     "output_type": "display_data"
    },
    {
     "name": "stdout",
     "output_type": "stream",
     "text": [
      "[[0.         0.        ]\n",
      " [0.00392157 0.        ]\n",
      " [0.00784314 0.        ]\n",
      " ...\n",
      " [0.99215686 1.        ]\n",
      " [0.99607843 1.        ]\n",
      " [1.         1.        ]]\n",
      "(51456, 2)\n",
      "Mean residual: 0.00062671414\n",
      "L2 relative error: 0.0005051830117073689\n"
     ]
    }
   ],
   "source": [
    "if __name__ == \"__main__\":\n",
    "\n",
    "    # Problem parameters:\n",
    "    a = 0.4 # Thermal diffusivity\n",
    "    L = np.pi # Lenght of the bar\n",
    "    n = 1 # Frequency of the sinusoidal initial conditions\n",
    "\n",
    "    # Generate a dataset with the exact solution (if you dont have one):\n",
    "    gen_exact_solution()\n",
    "    gen_testdata()\n",
    "\n",
    "    # Solve the equation:\n",
    "    main()\n",
    "    "
   ]
  },
  {
   "cell_type": "code",
   "execution_count": null,
   "metadata": {},
   "outputs": [],
   "source": []
  }
 ],
 "metadata": {
  "accelerator": "GPU",
  "colab": {
   "collapsed_sections": [],
   "name": "heat_conduction_1d_uniform_bar",
   "provenance": []
  },
  "kernelspec": {
   "display_name": "Python 3",
   "language": "python",
   "name": "python3"
  },
  "language_info": {
   "codemirror_mode": {
    "name": "ipython",
    "version": 3
   },
   "file_extension": ".py",
   "mimetype": "text/x-python",
   "name": "python",
   "nbconvert_exporter": "python",
   "pygments_lexer": "ipython3",
   "version": "3.9.0"
  }
 },
 "nbformat": 4,
 "nbformat_minor": 1
}
