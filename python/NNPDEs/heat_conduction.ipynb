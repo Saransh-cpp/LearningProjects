{
  "cells": [
    {
      "cell_type": "code",
      "execution_count": null,
      "metadata": {
        "colab": {
          "base_uri": "https://localhost:8080/"
        },
        "id": "Z2PweKqXHaGp",
        "outputId": "85333610-0880-4826-d3da-e56ac4bcaa40"
      },
      "outputs": [],
      "source": [
        "pip install deepxde"
      ]
    },
    {
      "cell_type": "code",
      "execution_count": 1,
      "metadata": {
        "id": "Eq4raiEN-hu8"
      },
      "outputs": [
        {
          "output_type": "stream",
          "name": "stderr",
          "text": [
            "Using backend: tensorflow\n\n"
          ]
        }
      ],
      "source": [
        "# Import libraries:\n",
        "from __future__ import absolute_import\n",
        "from __future__ import division\n",
        "from __future__ import print_function\n",
        "\n",
        "import io\n",
        "import re\n",
        "\n",
        "import matplotlib.pyplot as plt\n",
        "import numpy as np\n",
        "import requests\n",
        "\n",
        "import deepxde as dde\n",
        "from deepxde.backend import tf\n"
      ]
    },
    {
      "cell_type": "code",
      "execution_count": 6,
      "metadata": {
        "id": "fDLgsURPSEg6"
      },
      "outputs": [],
      "source": [
        "def heat_eq_exact_solution(x, t): #For sinusoidal initial conditions\n",
        "    return np.exp(-(n**2*np.pi**2*a*t)/(L**2))*np.sin(n*np.pi*x/L)\n",
        "\n",
        "def gen_exact_solution():\n",
        "\n",
        "    # Number of points in each dimension:\n",
        "    x_dim, t_dim = (256, 201)\n",
        "    # x_dim, t_dim = (4, 4)\n",
        "\n",
        "    # Bounds of 'x' and 't':\n",
        "    x_min, t_min = (0, 0.)\n",
        "    x_max, t_max = (L, 1.)\n",
        "\n",
        "    # Create tensors:\n",
        "    t = np.linspace(t_min, t_max, num=t_dim).reshape(t_dim, 1)\n",
        "    x = np.linspace(x_min, x_max, num=x_dim).reshape(x_dim, 1)\n",
        "    usol = np.zeros((x_dim, t_dim)).reshape(x_dim, t_dim)\n",
        "\n",
        "    # Obtain the value of the exact solution for each generated point:\n",
        "    for i in range(x_dim):\n",
        "        for j in range(t_dim):\n",
        "            usol[i][j] = heat_eq_exact_solution(x[i],t[j])\n",
        "    \n",
        "    # Save solution:\n",
        "    np.savez('heat_eq_data', x=x, t=t, usol=usol)\n",
        "    data = np.load('heat_eq_data.npz')\n",
        "\n",
        "\n",
        "def gen_testdata(): # Import the dataset with the exact solution\n",
        "    data = np.load('heat_eq_data.npz')\n",
        "    t, x, exact = data[\"t\"], data[\"x\"], data[\"usol\"].T\n",
        "    xx, tt = np.meshgrid(x, t)\n",
        "    X = np.vstack((np.ravel(xx), np.ravel(tt))).T\n",
        "    y = exact.flatten()[:, None]\n",
        "\n",
        "    # print(data[\"usol\"])\n",
        "    # print(exact)\n",
        "    # print(x)\n",
        "    # print(t)\n",
        "    # print(xx)\n",
        "    # print(tt)\n",
        "    # print(np.ravel(xx))\n",
        "    # print(X)\n",
        "    # print(exact.flatten())\n",
        "    # print(y)\n",
        "    return X, y\n",
        "\n",
        "def main():\n",
        "\n",
        "    # Express the PDE residual of the heat equation:\n",
        "    def pde(x, y):\n",
        "        dy_t = dde.grad.jacobian(y, x, i=0, j=1)\n",
        "        dy_xx = dde.grad.hessian(y, x, i=0, j=0)\n",
        "        return dy_t - a*dy_xx\n",
        "\n",
        "    # Computational geometry:\n",
        "    geom = dde.geometry.Interval(0, L)\n",
        "    timedomain = dde.geometry.TimeDomain(0, 1)\n",
        "    geomtime = dde.geometry.GeometryXTime(geom, timedomain)\n",
        "\n",
        "    # Initial and boundary conditions:\n",
        "    bc = dde.DirichletBC(geomtime, lambda x: 0, lambda _, on_boundary: on_boundary)\n",
        "    ic = dde.IC(\n",
        "        geomtime, lambda x: np.sin(n*np.pi*x[:, 0:1]/L), lambda _, on_initial: on_initial\n",
        "        )\n",
        "\n",
        "    # Define the PDE problem and configurations of the network:\n",
        "    data = dde.data.TimePDE(\n",
        "        geomtime, pde, [bc, ic], num_domain=2540, num_boundary=80, num_initial=160\n",
        "    )\n",
        "    net = dde.maps.FNN([2] + [20] * 3 + [1], \"tanh\", \"Glorot normal\")\n",
        "    model = dde.Model(data, net)\n",
        "\n",
        "    # Built/train the model:\n",
        "    model.compile(\"adam\", lr=1e-3)\n",
        "    model.train(epochs=20000)\n",
        "    model.compile(\"L-BFGS\")\n",
        "    losshistory, train_state = model.train()\n",
        "\n",
        "    # Plot/print the results\n",
        "    dde.saveplot(losshistory, train_state, issave=True, isplot=True)\n",
        "    X, y_true = gen_testdata()\n",
        "    y_pred = model.predict(X)\n",
        "    f = model.predict(X, operator=pde)\n",
        "    print(\"Mean residual:\", np.mean(np.absolute(f)))\n",
        "    print(\"L2 relative error:\", dde.metrics.l2_relative_error(y_true, y_pred))\n",
        "    np.savetxt(\"test.dat\", np.hstack((X, y_true, y_pred)))\n"
      ]
    },
    {
      "cell_type": "markdown",
      "metadata": {
        "id": "4ji-gX9wybd-"
      },
      "source": [
        "\n",
        "In this code we will solve the heat equation using PINN implemented with the DeepXDE library.\n",
        "\n",
        "The equation is as follows:\n",
        "\n",
        "$\\frac{\\partial u}{\\partial t} = \\alpha \\nabla^2 u\\;$ .\n",
        "\n",
        "Where $\\nabla^2$ is the laplacian differential operator, $\\alpha$ is the thermal diffusivity constant and $u$ is the function (temperature) we want to approximate.\n",
        "\n",
        "In a unidimensional case we have:\n",
        "\n",
        "$\\frac{\\partial u(x, t)}{\\partial t}$ = $\\alpha \\frac{\\partial^2u(x,t)}{{\\partial x}^2}\\;$, $\\;\\;\\;\\; x \\in [0, 1]\\;$, $\\;\\;\\;\\; t \\in [0, 1]\\;$.\n",
        "\n",
        "With Dirichlet boundary conditions \n",
        "\n",
        "$u(0, t) = u(1, t) = 0\\;$ , \n",
        "\n",
        "and periodic (sinoidal) initial conditions:\n",
        "\n",
        "$u(x, 0) = sin(n\\pi x/L)\\;$, $\\;\\;\\;\\; 0 < x < L\\;$, $\\;\\;\\;\\; n = 1, 2, ...\\;.$\n",
        "\n",
        "This setup is a common problem in many differential equations textbooks and can be physically interpreted as the variation of temperature in a uniform and unidimensional bar over time. Here, the constant $\\alpha$ is the thermal diffusivity (a property of the material that the bar is made) and $L$ is the lenght of the bar.\n",
        "\n"
      ]
    },
    {
      "cell_type": "code",
      "execution_count": 7,
      "metadata": {
        "colab": {
          "base_uri": "https://localhost:8080/",
          "height": 1000
        },
        "id": "8QInMu-MxhIj",
        "outputId": "b294ad3a-282b-4fcc-f6df-6c6fc2c16be3"
      },
      "outputs": [
        {
          "output_type": "stream",
          "name": "stdout",
          "text": [
            "[[0.        ]\n [0.33333333]\n [0.66666667]\n [1.        ]]\n[[0.         0.33333333 0.66666667 1.        ]\n [0.         0.33333333 0.66666667 1.        ]\n [0.         0.33333333 0.66666667 1.        ]\n [0.         0.33333333 0.66666667 1.        ]]\n[0.         0.33333333 0.66666667 1.         0.         0.33333333\n 0.66666667 1.         0.         0.33333333 0.66666667 1.\n 0.         0.33333333 0.66666667 1.        ]\n[[0.         0.33333333 0.66666667 1.         0.         0.33333333\n  0.66666667 1.         0.         0.33333333 0.66666667 1.\n  0.         0.33333333 0.66666667 1.        ]\n [0.         0.         0.         0.         0.33333333 0.33333333\n  0.33333333 0.33333333 0.66666667 0.66666667 0.66666667 0.66666667\n  1.         1.         1.         1.        ]]\n"
          ]
        }
      ],
      "source": [
        "if __name__ == \"__main__\":\n",
        "\n",
        "    # Problem parameters:\n",
        "    a = 0.4 # Thermal diffusivity\n",
        "    L = 1 # Lenght of the bar\n",
        "    n = 1 # Frequency of the sinusoidal initial conditions\n",
        "\n",
        "    # Generate a dataset with the exact solution (if you dont have one):\n",
        "    gen_exact_solution()\n",
        "    gen_testdata()\n",
        "\n",
        "    # Solve the equation:\n",
        "    # main()\n",
        "    "
      ]
    },
    {
      "cell_type": "code",
      "execution_count": null,
      "metadata": {},
      "outputs": [],
      "source": []
    }
  ],
  "metadata": {
    "accelerator": "GPU",
    "colab": {
      "collapsed_sections": [],
      "name": "heat_conduction_1d_uniform_bar",
      "provenance": []
    },
    "kernelspec": {
      "display_name": "Python 3",
      "name": "python3",
      "language": "python"
    },
    "language_info": {
      "name": "python",
      "version": "3.9.0"
    }
  },
  "nbformat": 4,
  "nbformat_minor": 0
}