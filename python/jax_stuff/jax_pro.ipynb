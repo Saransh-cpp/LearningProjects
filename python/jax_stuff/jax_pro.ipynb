{
 "cells": [
  {
   "cell_type": "code",
   "execution_count": 1,
   "id": "78e4af61-05ed-4493-9c00-145038bfedf0",
   "metadata": {},
   "outputs": [],
   "source": [
    "import jax.numpy as jnp\n",
    "from jax import grad, jacrev, jacfwd, jvp, vjp"
   ]
  },
  {
   "cell_type": "code",
   "execution_count": 2,
   "id": "88e99db7-582d-4a71-b474-9cdfc068cd76",
   "metadata": {},
   "outputs": [],
   "source": [
    "def f(x):\n",
    "    return jnp.array(\n",
    "        [\n",
    "            x[0]**6 * x[1]**4 * x[2]**9 * x[3]**2,\n",
    "            x[0]**2 * x[1]**3 * x[2]**5 * x[3]**3,\n",
    "            x[0]**5 * x[1]**7 * x[2]**7 * x[3]**6,\n",
    "        ]\n",
    "    )"
   ]
  },
  {
   "cell_type": "code",
   "execution_count": 3,
   "id": "df39bdf4-f10e-4dbb-978e-33d272f23f7c",
   "metadata": {},
   "outputs": [],
   "source": [
    "evaluation_point = jnp.array([1., .5, 1.5, 2.])"
   ]
  },
  {
   "cell_type": "code",
   "execution_count": 4,
   "id": "dd0e7430-48e8-4351-962e-18cc9820068a",
   "metadata": {},
   "outputs": [
    {
     "data": {
      "text/plain": [
       "Array([9.61084 , 7.59375 , 8.542969], dtype=float32)"
      ]
     },
     "execution_count": 4,
     "metadata": {},
     "output_type": "execute_result"
    }
   ],
   "source": [
    "f(evaluation_point)"
   ]
  },
  {
   "cell_type": "code",
   "execution_count": 5,
   "id": "14a94eb2-3cf6-429f-9069-d6dae59a3c68",
   "metadata": {},
   "outputs": [],
   "source": [
    "full_jac = jacfwd(f)(evaluation_point)"
   ]
  },
  {
   "cell_type": "code",
   "execution_count": 6,
   "id": "72ceedcc-fd17-47ac-ade5-3bd0ca964aa0",
   "metadata": {},
   "outputs": [
    {
     "data": {
      "text/plain": [
       "Array([[ 57.66504 ,  76.88672 ,  57.66504 ,   9.61084 ],\n",
       "       [ 15.1875  ,  45.5625  ,  25.3125  ,  11.390625],\n",
       "       [ 42.714844, 119.60156 ,  39.867188,  25.628906]], dtype=float32)"
      ]
     },
     "execution_count": 6,
     "metadata": {},
     "output_type": "execute_result"
    }
   ],
   "source": [
    "full_jac"
   ]
  },
  {
   "cell_type": "code",
   "execution_count": 7,
   "id": "22f0b4c9-03cb-4823-88e7-2e9e0e0a8a36",
   "metadata": {},
   "outputs": [],
   "source": [
    "multiplication_point = jnp.array([0.2, 0.3, 0.4, 0.8])"
   ]
  },
  {
   "cell_type": "code",
   "execution_count": 8,
   "id": "24a1d5d1-7182-44a8-86e5-c72b315696db",
   "metadata": {},
   "outputs": [
    {
     "data": {
      "text/plain": [
       "Array([65.353714, 35.94375 , 80.87344 ], dtype=float32)"
      ]
     },
     "execution_count": 8,
     "metadata": {},
     "output_type": "execute_result"
    }
   ],
   "source": [
    "full_jac @ multiplication_point"
   ]
  },
  {
   "cell_type": "code",
   "execution_count": 9,
   "id": "5ee3e4de-6133-4c21-834b-4f0c881d0676",
   "metadata": {},
   "outputs": [],
   "source": [
    "primals_out, tangents_out = jvp(f, (evaluation_point,), (multiplication_point,))"
   ]
  },
  {
   "cell_type": "code",
   "execution_count": 10,
   "id": "3e36fa82-5694-4e55-a1fe-317ed55f4dd4",
   "metadata": {},
   "outputs": [
    {
     "data": {
      "text/plain": [
       "(Array([9.61084 , 7.59375 , 8.542969], dtype=float32),\n",
       " Array([65.353714, 35.943752, 80.87344 ], dtype=float32))"
      ]
     },
     "execution_count": 10,
     "metadata": {},
     "output_type": "execute_result"
    }
   ],
   "source": [
    "primals_out, tangents_out"
   ]
  },
  {
   "cell_type": "code",
   "execution_count": 11,
   "id": "e98fe2b0-bdd8-4314-8086-7343fdee06c4",
   "metadata": {},
   "outputs": [],
   "source": [
    "full_jac = jacrev(f)(evaluation_point)"
   ]
  },
  {
   "cell_type": "code",
   "execution_count": 12,
   "id": "422e81a1-67c7-4073-a3a2-043d59bc9bf1",
   "metadata": {},
   "outputs": [
    {
     "data": {
      "text/plain": [
       "Array([[ 57.66504 ,  76.88672 ,  57.66504 ,   9.61084 ],\n",
       "       [ 15.1875  ,  45.5625  ,  25.3125  ,  11.390625],\n",
       "       [ 42.714844, 119.60156 ,  39.867188,  25.628906]], dtype=float32)"
      ]
     },
     "execution_count": 12,
     "metadata": {},
     "output_type": "execute_result"
    }
   ],
   "source": [
    "full_jac"
   ]
  },
  {
   "cell_type": "code",
   "execution_count": 13,
   "id": "7e796ac3-56a2-4c69-9e14-053879e0b9d1",
   "metadata": {},
   "outputs": [
    {
     "data": {
      "text/plain": [
       "Array([33.175198, 76.88672 , 35.073635, 15.590919], dtype=float32)"
      ]
     },
     "execution_count": 13,
     "metadata": {},
     "output_type": "execute_result"
    }
   ],
   "source": [
    "multiplication_point[:-1].T @ full_jac"
   ]
  },
  {
   "cell_type": "code",
   "execution_count": 14,
   "id": "49265a81-1463-48cf-9328-b91112f3b258",
   "metadata": {},
   "outputs": [],
   "source": [
    "primals_out, vjp_fun = vjp(f, evaluation_point)"
   ]
  },
  {
   "cell_type": "code",
   "execution_count": 15,
   "id": "a760c916-65b5-46c1-861f-345b3302ce60",
   "metadata": {},
   "outputs": [
    {
     "data": {
      "text/plain": [
       "(Array([33.175194, 76.88672 , 35.073635, 15.590918], dtype=float32),)"
      ]
     },
     "execution_count": 15,
     "metadata": {},
     "output_type": "execute_result"
    }
   ],
   "source": [
    "vjp_fun(multiplication_point[:-1])"
   ]
  },
  {
   "cell_type": "code",
   "execution_count": null,
   "id": "6d826e92-72b0-41d8-8857-5a4a1954031c",
   "metadata": {},
   "outputs": [],
   "source": []
  }
 ],
 "metadata": {
  "kernelspec": {
   "display_name": "Python 3 (ipykernel)",
   "language": "python",
   "name": "python3"
  },
  "language_info": {
   "codemirror_mode": {
    "name": "ipython",
    "version": 3
   },
   "file_extension": ".py",
   "mimetype": "text/x-python",
   "name": "python",
   "nbconvert_exporter": "python",
   "pygments_lexer": "ipython3",
   "version": "3.11.5"
  }
 },
 "nbformat": 4,
 "nbformat_minor": 5
}
