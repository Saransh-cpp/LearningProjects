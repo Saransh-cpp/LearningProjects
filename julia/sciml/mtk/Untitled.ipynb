{
 "cells": [
  {
   "cell_type": "code",
   "execution_count": null,
   "id": "df437378",
   "metadata": {},
   "outputs": [],
   "source": [
    "using ModelingToolkit"
   ]
  },
  {
   "cell_type": "code",
   "execution_count": null,
   "id": "4bb61fca",
   "metadata": {},
   "outputs": [],
   "source": [
    "@variables t x(t)  # independent and dependent variables\n",
    "@parameters τ       # parameters\n",
    "D = Differential(t) # define an operator for the differentiation w.r.t. time\n",
    "\n",
    "# your first ODE, consisting of a single equation, indicated by ~\n",
    "@named fol_model = ODESystem(D(x) ~ (1 - x)/τ)\n",
    "      # Model fol_model with 1 equations\n",
    "      # States (1):\n",
    "      #   x(t)\n",
    "      # Parameters (1):\n",
    "      #   τ"
   ]
  }
 ],
 "metadata": {
  "kernelspec": {
   "display_name": "Julia 1.7.2",
   "language": "julia",
   "name": "julia-1.7"
  },
  "language_info": {
   "file_extension": ".jl",
   "mimetype": "application/julia",
   "name": "julia",
   "version": "1.7.2"
  }
 },
 "nbformat": 4,
 "nbformat_minor": 5
}
